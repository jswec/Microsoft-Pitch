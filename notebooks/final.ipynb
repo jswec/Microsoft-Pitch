{
 "cells": [
  {
   "cell_type": "markdown",
   "metadata": {},
   "source": [
    "# Microsoft Movie Studios Pitch\n",
    "\n",
    "In this notebook we are going to find out through data parsing and analysis what type of movie we should make, who can help us, and who when we should release it by measuring ROI and Profit margin.\n",
    "\n",
    "First we cleaned up the data."
   ]
  },
  {
   "cell_type": "code",
   "execution_count": 2,
   "metadata": {},
   "outputs": [],
   "source": [
    "import pandas as pd\n",
    "import sqlite3\n",
    "import numpy as np\n",
    "import datetime\n",
    "import matplotlib.pyplot as plt\n",
    "import seaborn as sb\n",
    "\n",
    "##### Cleaning Up Budget Data #####\n",
    "df = pd.read_csv('C:/Users/Jake/Documents/Flatiron/projectfinal/Microsoft-Pitch/zippedData/tn.movie_budgets.csv.gz')\n",
    "\n",
    "##### Dropping Unused Columns #####\n",
    "df.drop(df.domestic_gross.name, axis=1, inplace=True)\n",
    "df.drop(df.id.name, axis=1, inplace=True)\n",
    "\n",
    "##### Cleaning Up the Numbers and Converting them #####\n",
    "df['worldwide_gross'] = df['worldwide_gross'].astype(str)\n",
    "df['production_budget'] = df['production_budget'].astype(str)\n",
    "df['worldwide_gross'] = df['worldwide_gross'].str.replace(',', '')\n",
    "df['worldwide_gross'] = df['worldwide_gross'].str.replace('$', '')\n",
    "df['production_budget'] = df['production_budget'].str.replace(',', '')\n",
    "df['production_budget'] = df['production_budget'].str.replace('$', '')\n",
    "df.worldwide_gross = pd.to_numeric(df.worldwide_gross, errors='coerce')\n",
    "df.production_budget = pd.to_numeric(df.production_budget, errors='coerce')\n",
    "\n",
    "##### Renaming Columns #####\n",
    "df = df.rename(columns={'production_budget': 'Budget', 'worldwide_gross': 'Total Gross', 'movie': 'Title', 'release_date': 'Year'})\n",
    "df['Year'] = pd.to_datetime(df['Year'])\n",
    "df['Released'] = df['Year'].dt.year\n",
    "df.drop(df.Year.name, axis=1, inplace=True)\n",
    "##### Sorting into top 10 #####\n",
    "df= df.loc[df['Total Gross'] >=1034727750]\n",
    "df = df.loc[df[\"Released\"] >=2017 ]\n",
    "df.sort_values(['Total Gross'], ascending=[False])\n",
    "df.sort_values(['Total Gross'], ascending=[0], inplace=True)\n",
    "\n",
    "#### Sorting for Genre ID ####"
   ]
  },
  {
   "cell_type": "markdown",
   "metadata": {},
   "source": [
    "# Goals"
   ]
  },
  {
   "cell_type": "code",
   "execution_count": null,
   "metadata": {},
   "outputs": [],
   "source": []
  },
  {
   "cell_type": "markdown",
   "metadata": {},
   "source": [
    "## Data"
   ]
  },
  {
   "cell_type": "code",
   "execution_count": null,
   "metadata": {},
   "outputs": [],
   "source": []
  },
  {
   "cell_type": "markdown",
   "metadata": {},
   "source": [
    "## Methods"
   ]
  },
  {
   "cell_type": "code",
   "execution_count": null,
   "metadata": {},
   "outputs": [],
   "source": []
  },
  {
   "cell_type": "markdown",
   "metadata": {},
   "source": [
    "## Results"
   ]
  },
  {
   "cell_type": "code",
   "execution_count": null,
   "metadata": {},
   "outputs": [],
   "source": []
  },
  {
   "cell_type": "markdown",
   "metadata": {},
   "source": [
    "### Business Recommendation 1"
   ]
  },
  {
   "cell_type": "code",
   "execution_count": null,
   "metadata": {},
   "outputs": [],
   "source": []
  },
  {
   "cell_type": "markdown",
   "metadata": {},
   "source": [
    "### Business Recommendation 2"
   ]
  },
  {
   "cell_type": "code",
   "execution_count": null,
   "metadata": {},
   "outputs": [],
   "source": []
  },
  {
   "cell_type": "markdown",
   "metadata": {},
   "source": [
    "### Business Recommendation 3"
   ]
  },
  {
   "cell_type": "code",
   "execution_count": null,
   "metadata": {},
   "outputs": [],
   "source": []
  }
 ],
 "metadata": {
  "kernelspec": {
   "display_name": "Python (learn-env)",
   "language": "python",
   "name": "learn-env"
  },
  "language_info": {
   "codemirror_mode": {
    "name": "ipython",
    "version": 3
   },
   "file_extension": ".py",
   "mimetype": "text/x-python",
   "name": "python",
   "nbconvert_exporter": "python",
   "pygments_lexer": "ipython3",
   "version": "3.8.5"
  }
 },
 "nbformat": 4,
 "nbformat_minor": 4
}
