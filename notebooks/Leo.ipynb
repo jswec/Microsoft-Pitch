{
 "cells": [
  {
   "cell_type": "markdown",
   "id": "0bba20db",
   "metadata": {},
   "source": [
    "# Microsoft Project Initial Questions based on current market\n",
    "\n",
    "* Is there a way to make use of all of Microsoft's current IP? \n",
    "* How do new franchises do in the current climate? \n",
    "* What subset of movies most closely model the current climate? \n",
    "* What are the midbudget options for franchises? \n",
    "* Besides a franchise what other options are there?"
   ]
  },
  {
   "cell_type": "markdown",
   "id": "99154a35",
   "metadata": {},
   "source": [
    "## Budget\n",
    "Beginning with budgeting data to determine what a 'midbudget' movie looks like"
   ]
  },
  {
   "cell_type": "code",
   "execution_count": 2,
   "id": "53bc1092",
   "metadata": {},
   "outputs": [],
   "source": [
    "import pandas as pd"
   ]
  },
  {
   "cell_type": "code",
   "execution_count": 3,
   "id": "84144df7",
   "metadata": {},
   "outputs": [
    {
     "name": "stdout",
     "output_type": "stream",
     "text": [
      "Beyza-Genre&Rating.ipynb Leo Notebook 2.ipynb     final.ipynb\r\n",
      "Horror.csv               Leo.ipynb                russmasterdata.ipynb\r\n",
      "Jake.ipynb               Russell.ipynb\r\n",
      "Leo 3.ipynb              exploratory.ipynb\r\n"
     ]
    }
   ],
   "source": [
    "! ls"
   ]
  },
  {
   "cell_type": "code",
   "execution_count": 4,
   "id": "2253705e",
   "metadata": {},
   "outputs": [
    {
     "name": "stdout",
     "output_type": "stream",
     "text": [
      "/Users/leahschell/Documents/Flatiron/phase_1/microsoft/Microsoft-Pitch\n"
     ]
    }
   ],
   "source": [
    "cd .."
   ]
  },
  {
   "cell_type": "code",
   "execution_count": 5,
   "id": "53a8147a",
   "metadata": {},
   "outputs": [
    {
     "name": "stdout",
     "output_type": "stream",
     "text": [
      "\u001b[34mMain Database\u001b[m\u001b[m README.md     \u001b[34mimages\u001b[m\u001b[m        \u001b[34mnotebooks\u001b[m\u001b[m     \u001b[34mzippedData\u001b[m\u001b[m\r\n"
     ]
    }
   ],
   "source": [
    "! ls"
   ]
  },
  {
   "cell_type": "code",
   "execution_count": 6,
   "id": "c8f45dcd",
   "metadata": {},
   "outputs": [
    {
     "name": "stdout",
     "output_type": "stream",
     "text": [
      "/Users/leahschell/Documents/Flatiron/phase_1/microsoft/Microsoft-Pitch/zippedData\n"
     ]
    }
   ],
   "source": [
    "cd zippedData/"
   ]
  },
  {
   "cell_type": "code",
   "execution_count": 7,
   "id": "30bfaa5c",
   "metadata": {},
   "outputs": [
    {
     "name": "stdout",
     "output_type": "stream",
     "text": [
      "all_genres_vs_budgets     im.db.zip                 tmdb.movies.csv\r\n",
      "all_genres_vs_budgets.csv rt.movie_info.tsv         tmdb.movies.csv.gz\r\n",
      "bom.movie_gross.csv       rt.movie_info.tsv.gz      tn.movie_budgets.csv\r\n",
      "bom.movie_gross.csv.gz    rt.reviews.tsv            tn.movie_budgets.csv.gz\r\n",
      "im.db                     rt.reviews.tsv.gz\r\n"
     ]
    }
   ],
   "source": [
    "! ls"
   ]
  },
  {
   "cell_type": "code",
   "execution_count": 8,
   "id": "87d45d1a",
   "metadata": {
    "scrolled": true
   },
   "outputs": [
    {
     "data": {
      "text/html": [
       "<div>\n",
       "<style scoped>\n",
       "    .dataframe tbody tr th:only-of-type {\n",
       "        vertical-align: middle;\n",
       "    }\n",
       "\n",
       "    .dataframe tbody tr th {\n",
       "        vertical-align: top;\n",
       "    }\n",
       "\n",
       "    .dataframe thead th {\n",
       "        text-align: right;\n",
       "    }\n",
       "</style>\n",
       "<table border=\"1\" class=\"dataframe\">\n",
       "  <thead>\n",
       "    <tr style=\"text-align: right;\">\n",
       "      <th></th>\n",
       "      <th>id</th>\n",
       "      <th>release_date</th>\n",
       "      <th>movie</th>\n",
       "      <th>production_budget</th>\n",
       "      <th>domestic_gross</th>\n",
       "      <th>worldwide_gross</th>\n",
       "    </tr>\n",
       "  </thead>\n",
       "  <tbody>\n",
       "    <tr>\n",
       "      <th>0</th>\n",
       "      <td>1</td>\n",
       "      <td>Dec 18, 2009</td>\n",
       "      <td>Avatar</td>\n",
       "      <td>$425,000,000</td>\n",
       "      <td>$760,507,625</td>\n",
       "      <td>$2,776,345,279</td>\n",
       "    </tr>\n",
       "    <tr>\n",
       "      <th>1</th>\n",
       "      <td>2</td>\n",
       "      <td>May 20, 2011</td>\n",
       "      <td>Pirates of the Caribbean: On Stranger Tides</td>\n",
       "      <td>$410,600,000</td>\n",
       "      <td>$241,063,875</td>\n",
       "      <td>$1,045,663,875</td>\n",
       "    </tr>\n",
       "    <tr>\n",
       "      <th>2</th>\n",
       "      <td>3</td>\n",
       "      <td>Jun 7, 2019</td>\n",
       "      <td>Dark Phoenix</td>\n",
       "      <td>$350,000,000</td>\n",
       "      <td>$42,762,350</td>\n",
       "      <td>$149,762,350</td>\n",
       "    </tr>\n",
       "    <tr>\n",
       "      <th>3</th>\n",
       "      <td>4</td>\n",
       "      <td>May 1, 2015</td>\n",
       "      <td>Avengers: Age of Ultron</td>\n",
       "      <td>$330,600,000</td>\n",
       "      <td>$459,005,868</td>\n",
       "      <td>$1,403,013,963</td>\n",
       "    </tr>\n",
       "    <tr>\n",
       "      <th>4</th>\n",
       "      <td>5</td>\n",
       "      <td>Dec 15, 2017</td>\n",
       "      <td>Star Wars Ep. VIII: The Last Jedi</td>\n",
       "      <td>$317,000,000</td>\n",
       "      <td>$620,181,382</td>\n",
       "      <td>$1,316,721,747</td>\n",
       "    </tr>\n",
       "  </tbody>\n",
       "</table>\n",
       "</div>"
      ],
      "text/plain": [
       "   id  release_date                                        movie  \\\n",
       "0   1  Dec 18, 2009                                       Avatar   \n",
       "1   2  May 20, 2011  Pirates of the Caribbean: On Stranger Tides   \n",
       "2   3   Jun 7, 2019                                 Dark Phoenix   \n",
       "3   4   May 1, 2015                      Avengers: Age of Ultron   \n",
       "4   5  Dec 15, 2017            Star Wars Ep. VIII: The Last Jedi   \n",
       "\n",
       "  production_budget domestic_gross worldwide_gross  \n",
       "0      $425,000,000   $760,507,625  $2,776,345,279  \n",
       "1      $410,600,000   $241,063,875  $1,045,663,875  \n",
       "2      $350,000,000    $42,762,350    $149,762,350  \n",
       "3      $330,600,000   $459,005,868  $1,403,013,963  \n",
       "4      $317,000,000   $620,181,382  $1,316,721,747  "
      ]
     },
     "execution_count": 8,
     "metadata": {},
     "output_type": "execute_result"
    }
   ],
   "source": [
    "budgets_raw = pd.read_csv('/Users/leahschell/Documents/Flatiron/phase_1/microsoft/Microsoft-Pitch/zippedData/tn.movie_budgets.csv.gz')\n",
    "budgets_raw.head()"
   ]
  },
  {
   "cell_type": "markdown",
   "id": "79140d49",
   "metadata": {},
   "source": [
    "## Budget Data Cleaning\n",
    "\n",
    "I want to look at the release dates, movie titles, budgets, and compare those against worldwide gross. "
   ]
  },
  {
   "cell_type": "code",
   "execution_count": 9,
   "id": "07efb6f0",
   "metadata": {
    "scrolled": true
   },
   "outputs": [
    {
     "data": {
      "text/html": [
       "<div>\n",
       "<style scoped>\n",
       "    .dataframe tbody tr th:only-of-type {\n",
       "        vertical-align: middle;\n",
       "    }\n",
       "\n",
       "    .dataframe tbody tr th {\n",
       "        vertical-align: top;\n",
       "    }\n",
       "\n",
       "    .dataframe thead th {\n",
       "        text-align: right;\n",
       "    }\n",
       "</style>\n",
       "<table border=\"1\" class=\"dataframe\">\n",
       "  <thead>\n",
       "    <tr style=\"text-align: right;\">\n",
       "      <th></th>\n",
       "      <th>release_date</th>\n",
       "      <th>movie</th>\n",
       "      <th>production_budget</th>\n",
       "      <th>worldwide_gross</th>\n",
       "    </tr>\n",
       "  </thead>\n",
       "  <tbody>\n",
       "    <tr>\n",
       "      <th>0</th>\n",
       "      <td>Dec 18, 2009</td>\n",
       "      <td>Avatar</td>\n",
       "      <td>$425,000,000</td>\n",
       "      <td>$2,776,345,279</td>\n",
       "    </tr>\n",
       "    <tr>\n",
       "      <th>1</th>\n",
       "      <td>May 20, 2011</td>\n",
       "      <td>Pirates of the Caribbean: On Stranger Tides</td>\n",
       "      <td>$410,600,000</td>\n",
       "      <td>$1,045,663,875</td>\n",
       "    </tr>\n",
       "    <tr>\n",
       "      <th>2</th>\n",
       "      <td>Jun 7, 2019</td>\n",
       "      <td>Dark Phoenix</td>\n",
       "      <td>$350,000,000</td>\n",
       "      <td>$149,762,350</td>\n",
       "    </tr>\n",
       "    <tr>\n",
       "      <th>3</th>\n",
       "      <td>May 1, 2015</td>\n",
       "      <td>Avengers: Age of Ultron</td>\n",
       "      <td>$330,600,000</td>\n",
       "      <td>$1,403,013,963</td>\n",
       "    </tr>\n",
       "    <tr>\n",
       "      <th>4</th>\n",
       "      <td>Dec 15, 2017</td>\n",
       "      <td>Star Wars Ep. VIII: The Last Jedi</td>\n",
       "      <td>$317,000,000</td>\n",
       "      <td>$1,316,721,747</td>\n",
       "    </tr>\n",
       "  </tbody>\n",
       "</table>\n",
       "</div>"
      ],
      "text/plain": [
       "   release_date                                        movie  \\\n",
       "0  Dec 18, 2009                                       Avatar   \n",
       "1  May 20, 2011  Pirates of the Caribbean: On Stranger Tides   \n",
       "2   Jun 7, 2019                                 Dark Phoenix   \n",
       "3   May 1, 2015                      Avengers: Age of Ultron   \n",
       "4  Dec 15, 2017            Star Wars Ep. VIII: The Last Jedi   \n",
       "\n",
       "  production_budget worldwide_gross  \n",
       "0      $425,000,000  $2,776,345,279  \n",
       "1      $410,600,000  $1,045,663,875  \n",
       "2      $350,000,000    $149,762,350  \n",
       "3      $330,600,000  $1,403,013,963  \n",
       "4      $317,000,000  $1,316,721,747  "
      ]
     },
     "execution_count": 9,
     "metadata": {},
     "output_type": "execute_result"
    }
   ],
   "source": [
    "budgets = budgets_raw[['release_date', 'movie', 'production_budget', 'worldwide_gross']]\n",
    "budgets.head()"
   ]
  },
  {
   "cell_type": "code",
   "execution_count": 10,
   "id": "7c9e57e2",
   "metadata": {
    "scrolled": false
   },
   "outputs": [
    {
     "name": "stdout",
     "output_type": "stream",
     "text": [
      "<class 'pandas.core.frame.DataFrame'>\n",
      "RangeIndex: 5782 entries, 0 to 5781\n",
      "Data columns (total 4 columns):\n",
      " #   Column             Non-Null Count  Dtype \n",
      "---  ------             --------------  ----- \n",
      " 0   release_date       5782 non-null   object\n",
      " 1   movie              5782 non-null   object\n",
      " 2   production_budget  5782 non-null   object\n",
      " 3   worldwide_gross    5782 non-null   object\n",
      "dtypes: object(4)\n",
      "memory usage: 180.8+ KB\n"
     ]
    }
   ],
   "source": [
    "budgets.info()"
   ]
  },
  {
   "cell_type": "markdown",
   "id": "381d5fda",
   "metadata": {},
   "source": [
    "I want to:\n",
    "* look at release dates by month and year\n",
    "* convert prod budget and gross into integers"
   ]
  },
  {
   "cell_type": "code",
   "execution_count": 11,
   "id": "dbf557eb",
   "metadata": {
    "scrolled": false
   },
   "outputs": [
    {
     "name": "stderr",
     "output_type": "stream",
     "text": [
      "<ipython-input-11-6cc998c7af12>:1: SettingWithCopyWarning: \n",
      "A value is trying to be set on a copy of a slice from a DataFrame.\n",
      "Try using .loc[row_indexer,col_indexer] = value instead\n",
      "\n",
      "See the caveats in the documentation: https://pandas.pydata.org/pandas-docs/stable/user_guide/indexing.html#returning-a-view-versus-a-copy\n",
      "  budgets['release_month'] = budgets['release_date'].str[:3]\n"
     ]
    }
   ],
   "source": [
    "budgets['release_month'] = budgets['release_date'].str[:3]\n",
    "budgets['release_year'] = budgets['release_date'].str[-4:]\n",
    "budgets['release_year'] = budgets['release_year'].astype(int)"
   ]
  },
  {
   "cell_type": "code",
   "execution_count": 12,
   "id": "b45acaeb",
   "metadata": {},
   "outputs": [],
   "source": [
    "budgets['production_budget'] = budgets['production_budget'].str.strip('$')\n",
    "budgets['worldwide_gross'] = budgets['worldwide_gross'].str.strip('$')\n",
    "budgets['production_budget'] = budgets['production_budget'].str.replace(r'\\W',\"\")\n",
    "budgets['production_budget'] = budgets['production_budget'].astype(int)\n",
    "budgets['worldwide_gross'] = budgets['worldwide_gross'].str.replace(r'\\W',\"\")\n",
    "budgets['worldwide_gross'] = budgets['worldwide_gross'].astype(int)"
   ]
  },
  {
   "cell_type": "code",
   "execution_count": 13,
   "id": "6655374f",
   "metadata": {},
   "outputs": [
    {
     "data": {
      "text/html": [
       "<div>\n",
       "<style scoped>\n",
       "    .dataframe tbody tr th:only-of-type {\n",
       "        vertical-align: middle;\n",
       "    }\n",
       "\n",
       "    .dataframe tbody tr th {\n",
       "        vertical-align: top;\n",
       "    }\n",
       "\n",
       "    .dataframe thead th {\n",
       "        text-align: right;\n",
       "    }\n",
       "</style>\n",
       "<table border=\"1\" class=\"dataframe\">\n",
       "  <thead>\n",
       "    <tr style=\"text-align: right;\">\n",
       "      <th></th>\n",
       "      <th>release_date</th>\n",
       "      <th>movie</th>\n",
       "      <th>production_budget</th>\n",
       "      <th>worldwide_gross</th>\n",
       "      <th>release_month</th>\n",
       "      <th>release_year</th>\n",
       "    </tr>\n",
       "  </thead>\n",
       "  <tbody>\n",
       "    <tr>\n",
       "      <th>0</th>\n",
       "      <td>Dec 18, 2009</td>\n",
       "      <td>Avatar</td>\n",
       "      <td>425000000</td>\n",
       "      <td>2776345279</td>\n",
       "      <td>Dec</td>\n",
       "      <td>2009</td>\n",
       "    </tr>\n",
       "    <tr>\n",
       "      <th>1</th>\n",
       "      <td>May 20, 2011</td>\n",
       "      <td>Pirates of the Caribbean: On Stranger Tides</td>\n",
       "      <td>410600000</td>\n",
       "      <td>1045663875</td>\n",
       "      <td>May</td>\n",
       "      <td>2011</td>\n",
       "    </tr>\n",
       "    <tr>\n",
       "      <th>2</th>\n",
       "      <td>Jun 7, 2019</td>\n",
       "      <td>Dark Phoenix</td>\n",
       "      <td>350000000</td>\n",
       "      <td>149762350</td>\n",
       "      <td>Jun</td>\n",
       "      <td>2019</td>\n",
       "    </tr>\n",
       "    <tr>\n",
       "      <th>3</th>\n",
       "      <td>May 1, 2015</td>\n",
       "      <td>Avengers: Age of Ultron</td>\n",
       "      <td>330600000</td>\n",
       "      <td>1403013963</td>\n",
       "      <td>May</td>\n",
       "      <td>2015</td>\n",
       "    </tr>\n",
       "    <tr>\n",
       "      <th>4</th>\n",
       "      <td>Dec 15, 2017</td>\n",
       "      <td>Star Wars Ep. VIII: The Last Jedi</td>\n",
       "      <td>317000000</td>\n",
       "      <td>1316721747</td>\n",
       "      <td>Dec</td>\n",
       "      <td>2017</td>\n",
       "    </tr>\n",
       "  </tbody>\n",
       "</table>\n",
       "</div>"
      ],
      "text/plain": [
       "   release_date                                        movie  \\\n",
       "0  Dec 18, 2009                                       Avatar   \n",
       "1  May 20, 2011  Pirates of the Caribbean: On Stranger Tides   \n",
       "2   Jun 7, 2019                                 Dark Phoenix   \n",
       "3   May 1, 2015                      Avengers: Age of Ultron   \n",
       "4  Dec 15, 2017            Star Wars Ep. VIII: The Last Jedi   \n",
       "\n",
       "   production_budget  worldwide_gross release_month  release_year  \n",
       "0          425000000       2776345279           Dec          2009  \n",
       "1          410600000       1045663875           May          2011  \n",
       "2          350000000        149762350           Jun          2019  \n",
       "3          330600000       1403013963           May          2015  \n",
       "4          317000000       1316721747           Dec          2017  "
      ]
     },
     "execution_count": 13,
     "metadata": {},
     "output_type": "execute_result"
    }
   ],
   "source": [
    "budgets.head()"
   ]
  },
  {
   "cell_type": "code",
   "execution_count": 14,
   "id": "015942d5",
   "metadata": {},
   "outputs": [
    {
     "name": "stdout",
     "output_type": "stream",
     "text": [
      "<class 'pandas.core.frame.DataFrame'>\n",
      "RangeIndex: 5782 entries, 0 to 5781\n",
      "Data columns (total 6 columns):\n",
      " #   Column             Non-Null Count  Dtype \n",
      "---  ------             --------------  ----- \n",
      " 0   release_date       5782 non-null   object\n",
      " 1   movie              5782 non-null   object\n",
      " 2   production_budget  5782 non-null   int64 \n",
      " 3   worldwide_gross    5782 non-null   int64 \n",
      " 4   release_month      5782 non-null   object\n",
      " 5   release_year       5782 non-null   int64 \n",
      "dtypes: int64(3), object(3)\n",
      "memory usage: 271.2+ KB\n"
     ]
    }
   ],
   "source": [
    "budgets.info()"
   ]
  },
  {
   "cell_type": "code",
   "execution_count": 15,
   "id": "c0223a50",
   "metadata": {},
   "outputs": [],
   "source": [
    "pd.set_option('display.float_format', lambda x: '%.5f' % x)"
   ]
  },
  {
   "cell_type": "code",
   "execution_count": 16,
   "id": "46495f57",
   "metadata": {
    "scrolled": true
   },
   "outputs": [
    {
     "data": {
      "text/html": [
       "<div>\n",
       "<style scoped>\n",
       "    .dataframe tbody tr th:only-of-type {\n",
       "        vertical-align: middle;\n",
       "    }\n",
       "\n",
       "    .dataframe tbody tr th {\n",
       "        vertical-align: top;\n",
       "    }\n",
       "\n",
       "    .dataframe thead th {\n",
       "        text-align: right;\n",
       "    }\n",
       "</style>\n",
       "<table border=\"1\" class=\"dataframe\">\n",
       "  <thead>\n",
       "    <tr style=\"text-align: right;\">\n",
       "      <th></th>\n",
       "      <th>production_budget</th>\n",
       "      <th>worldwide_gross</th>\n",
       "      <th>release_year</th>\n",
       "    </tr>\n",
       "  </thead>\n",
       "  <tbody>\n",
       "    <tr>\n",
       "      <th>count</th>\n",
       "      <td>5782.00000</td>\n",
       "      <td>5782.00000</td>\n",
       "      <td>5782.00000</td>\n",
       "    </tr>\n",
       "    <tr>\n",
       "      <th>mean</th>\n",
       "      <td>31587757.09651</td>\n",
       "      <td>91487460.90643</td>\n",
       "      <td>2003.96714</td>\n",
       "    </tr>\n",
       "    <tr>\n",
       "      <th>std</th>\n",
       "      <td>41812076.82694</td>\n",
       "      <td>174719968.77890</td>\n",
       "      <td>12.72439</td>\n",
       "    </tr>\n",
       "    <tr>\n",
       "      <th>min</th>\n",
       "      <td>1100.00000</td>\n",
       "      <td>0.00000</td>\n",
       "      <td>1915.00000</td>\n",
       "    </tr>\n",
       "    <tr>\n",
       "      <th>25%</th>\n",
       "      <td>5000000.00000</td>\n",
       "      <td>4125414.75000</td>\n",
       "      <td>2000.00000</td>\n",
       "    </tr>\n",
       "    <tr>\n",
       "      <th>50%</th>\n",
       "      <td>17000000.00000</td>\n",
       "      <td>27984448.50000</td>\n",
       "      <td>2007.00000</td>\n",
       "    </tr>\n",
       "    <tr>\n",
       "      <th>75%</th>\n",
       "      <td>40000000.00000</td>\n",
       "      <td>97645836.50000</td>\n",
       "      <td>2012.00000</td>\n",
       "    </tr>\n",
       "    <tr>\n",
       "      <th>max</th>\n",
       "      <td>425000000.00000</td>\n",
       "      <td>2776345279.00000</td>\n",
       "      <td>2020.00000</td>\n",
       "    </tr>\n",
       "  </tbody>\n",
       "</table>\n",
       "</div>"
      ],
      "text/plain": [
       "       production_budget  worldwide_gross  release_year\n",
       "count         5782.00000       5782.00000    5782.00000\n",
       "mean      31587757.09651   91487460.90643    2003.96714\n",
       "std       41812076.82694  174719968.77890      12.72439\n",
       "min           1100.00000          0.00000    1915.00000\n",
       "25%        5000000.00000    4125414.75000    2000.00000\n",
       "50%       17000000.00000   27984448.50000    2007.00000\n",
       "75%       40000000.00000   97645836.50000    2012.00000\n",
       "max      425000000.00000 2776345279.00000    2020.00000"
      ]
     },
     "execution_count": 16,
     "metadata": {},
     "output_type": "execute_result"
    }
   ],
   "source": [
    "budgets.describe()"
   ]
  },
  {
   "cell_type": "markdown",
   "id": "ed848238",
   "metadata": {},
   "source": [
    "# First Look Visuals"
   ]
  },
  {
   "cell_type": "code",
   "execution_count": 17,
   "id": "fea7e025",
   "metadata": {},
   "outputs": [],
   "source": [
    "import matplotlib.pyplot as plt"
   ]
  },
  {
   "cell_type": "markdown",
   "id": "8b375b7f",
   "metadata": {},
   "source": [
    "### Production Budget Trends v Year"
   ]
  },
  {
   "cell_type": "code",
   "execution_count": null,
   "id": "97591a2d",
   "metadata": {},
   "outputs": [],
   "source": []
  },
  {
   "cell_type": "code",
   "execution_count": 18,
   "id": "f0606152",
   "metadata": {},
   "outputs": [
    {
     "data": {
      "image/png": "[encoded data removed]",
      "text/plain": [
       "<Figure size 720x360 with 1 Axes>"
      ]
     },
     "metadata": {
      "needs_background": "light"
     },
     "output_type": "display_data"
    }
   ],
   "source": [
    "x = budgets['release_year']\n",
    "y = budgets['production_budget']\n",
    "\n",
    "fig, ax = plt.subplots(figsize=(10,5))\n",
    "ax.scatter(x,y)\n",
    "ax.set_title('Correlation Between Budgets and Year')\n",
    "ax.set_xlabel('Year')\n",
    "ax.set_ylabel('Budget');"
   ]
  },
  {
   "cell_type": "code",
   "execution_count": 19,
   "id": "58a5e2ec",
   "metadata": {},
   "outputs": [
    {
     "data": {
      "text/plain": [
       "Text(0, 0.5, 'Budget')"
      ]
     },
     "execution_count": 19,
     "metadata": {},
     "output_type": "execute_result"
    },
    {
     "data": {
      "image/png": "[encoded data removed]",
      "text/plain": [
       "<Figure size 720x360 with 1 Axes>"
      ]
     },
     "metadata": {
      "needs_background": "light"
     },
     "output_type": "display_data"
    }
   ],
   "source": [
    "budgetsr = budgets[budgets['release_year'] > 2000]\n",
    "x = budgetsr['release_year']\n",
    "y = budgetsr['production_budget']\n",
    "\n",
    "fig, ax = plt.subplots(figsize=(10,5))\n",
    "ax.scatter(x,y)\n",
    "ax.set_title('Correlation Between Budgets and Year')\n",
    "ax.set_xlabel('Year')\n",
    "ax.set_ylabel('Budget')"
   ]
  },
  {
   "cell_type": "markdown",
   "id": "a5fc86b1",
   "metadata": {},
   "source": [
    "### Production Budget v Gross"
   ]
  },
  {
   "cell_type": "code",
   "execution_count": 20,
   "id": "8f0f42b6",
   "metadata": {},
   "outputs": [
    {
     "data": {
      "image/png": "[encoded data removed]",
      "text/plain": [
       "<Figure size 720x360 with 1 Axes>"
      ]
     },
     "metadata": {
      "needs_background": "light"
     },
     "output_type": "display_data"
    }
   ],
   "source": [
    "x = budgets['production_budget']\n",
    "y = budgets['worldwide_gross']\n",
    "\n",
    "fig, ax = plt.subplots(figsize=(10,5))\n",
    "ax.scatter(x,y)\n",
    "ax.set_title('Correlation Between Budgets and WW Gross')\n",
    "ax.set_xlabel('Budget')\n",
    "ax.set_ylabel('Gross');"
   ]
  },
  {
   "cell_type": "code",
   "execution_count": 21,
   "id": "db449e6b",
   "metadata": {},
   "outputs": [
    {
     "data": {
      "text/html": [
       "<div>\n",
       "<style scoped>\n",
       "    .dataframe tbody tr th:only-of-type {\n",
       "        vertical-align: middle;\n",
       "    }\n",
       "\n",
       "    .dataframe tbody tr th {\n",
       "        vertical-align: top;\n",
       "    }\n",
       "\n",
       "    .dataframe thead th {\n",
       "        text-align: right;\n",
       "    }\n",
       "</style>\n",
       "<table border=\"1\" class=\"dataframe\">\n",
       "  <thead>\n",
       "    <tr style=\"text-align: right;\">\n",
       "      <th></th>\n",
       "      <th>release_date</th>\n",
       "      <th>movie</th>\n",
       "      <th>production_budget</th>\n",
       "      <th>worldwide_gross</th>\n",
       "      <th>release_month</th>\n",
       "      <th>release_year</th>\n",
       "    </tr>\n",
       "  </thead>\n",
       "  <tbody>\n",
       "    <tr>\n",
       "      <th>194</th>\n",
       "      <td>Dec 31, 2020</td>\n",
       "      <td>Moonfall</td>\n",
       "      <td>150000000</td>\n",
       "      <td>0</td>\n",
       "      <td>Dec</td>\n",
       "      <td>2020</td>\n",
       "    </tr>\n",
       "    <tr>\n",
       "      <th>535</th>\n",
       "      <td>Feb 21, 2020</td>\n",
       "      <td>Call of the Wild</td>\n",
       "      <td>82000000</td>\n",
       "      <td>0</td>\n",
       "      <td>Feb</td>\n",
       "      <td>2020</td>\n",
       "    </tr>\n",
       "    <tr>\n",
       "      <th>1205</th>\n",
       "      <td>Dec 31, 2020</td>\n",
       "      <td>Hannibal the Conqueror</td>\n",
       "      <td>50000000</td>\n",
       "      <td>0</td>\n",
       "      <td>Dec</td>\n",
       "      <td>2020</td>\n",
       "    </tr>\n",
       "  </tbody>\n",
       "</table>\n",
       "</div>"
      ],
      "text/plain": [
       "      release_date                   movie  production_budget  \\\n",
       "194   Dec 31, 2020                Moonfall          150000000   \n",
       "535   Feb 21, 2020        Call of the Wild           82000000   \n",
       "1205  Dec 31, 2020  Hannibal the Conqueror           50000000   \n",
       "\n",
       "      worldwide_gross release_month  release_year  \n",
       "194                 0           Dec          2020  \n",
       "535                 0           Feb          2020  \n",
       "1205                0           Dec          2020  "
      ]
     },
     "execution_count": 21,
     "metadata": {},
     "output_type": "execute_result"
    }
   ],
   "source": [
    "#what do the movies that came out in 2020 look like? \n",
    "\n",
    "budgets2020 = budgets[(budgets['release_year'] == 2020)]\n",
    "budgets2020"
   ]
  },
  {
   "cell_type": "markdown",
   "id": "219446f2",
   "metadata": {},
   "source": [
    "# BUDGET: WHAT IS MID?\n",
    "\n",
    "* Need to adjust budget for inflation to get a more accurate understanding?\n",
    "* Only look at movies in the last 20 years - Shrek was released in 2001\n",
    "* For now I want to limit budget to interquartile range\n",
    "* Movies in this data that came out in 2020 had no worldwide gross so I'm going to exclude them even though they are the most recent data\n",
    "\n",
    "\n",
    "I'm looking at Shrek initially as a benchmark because based on my expertise I know that this film was responsible for a major shift in the way that we make/consume franchises"
   ]
  },
  {
   "cell_type": "code",
   "execution_count": 22,
   "id": "aaa9a23a",
   "metadata": {},
   "outputs": [],
   "source": [
    "budgets_mid = budgets[(budgets['production_budget'] >= 5000000) & (budgets['production_budget'] <= 40000000) & (budgets['release_year'] >= 2015)]"
   ]
  },
  {
   "cell_type": "code",
   "execution_count": 23,
   "id": "1b0d83d0",
   "metadata": {},
   "outputs": [
    {
     "name": "stdout",
     "output_type": "stream",
     "text": [
      "<class 'pandas.core.frame.DataFrame'>\n",
      "Int64Index: 463 entries, 1377 to 4399\n",
      "Data columns (total 6 columns):\n",
      " #   Column             Non-Null Count  Dtype \n",
      "---  ------             --------------  ----- \n",
      " 0   release_date       463 non-null    object\n",
      " 1   movie              463 non-null    object\n",
      " 2   production_budget  463 non-null    int64 \n",
      " 3   worldwide_gross    463 non-null    int64 \n",
      " 4   release_month      463 non-null    object\n",
      " 5   release_year       463 non-null    int64 \n",
      "dtypes: int64(3), object(3)\n",
      "memory usage: 25.3+ KB\n"
     ]
    }
   ],
   "source": [
    "budgets_mid.info()"
   ]
  },
  {
   "cell_type": "code",
   "execution_count": 24,
   "id": "9fa0914c",
   "metadata": {},
   "outputs": [
    {
     "data": {
      "text/plain": [
       "2015    144\n",
       "2016    117\n",
       "2017     90\n",
       "2018     75\n",
       "2019     37\n",
       "Name: release_year, dtype: int64"
      ]
     },
     "execution_count": 24,
     "metadata": {},
     "output_type": "execute_result"
    }
   ],
   "source": [
    "budgets_mid['release_year'].value_counts()"
   ]
  },
  {
   "cell_type": "markdown",
   "id": "f69f8218",
   "metadata": {},
   "source": [
    "## Do movie budgets vary year to year?\n",
    "### Looking at recession years - microsoft is making cuts"
   ]
  },
  {
   "cell_type": "code",
   "execution_count": 25,
   "id": "0423d7f2",
   "metadata": {},
   "outputs": [
    {
     "data": {
      "text/plain": [
       "Text(0, 0.5, 'Budget')"
      ]
     },
     "execution_count": 25,
     "metadata": {},
     "output_type": "execute_result"
    },
    {
     "data": {
      "image/png": "[encoded data removed]",
      "text/plain": [
       "<Figure size 720x360 with 1 Axes>"
      ]
     },
     "metadata": {
      "needs_background": "light"
     },
     "output_type": "display_data"
    }
   ],
   "source": [
    "x = budgets_mid['release_year']\n",
    "y = budgets_mid['production_budget']\n",
    "\n",
    "fig, ax = plt.subplots(figsize=(10,5))\n",
    "ax.scatter(x,y)\n",
    "ax.set_title('Correlation Between Budgets and Year')\n",
    "ax.set_xlabel('Year')\n",
    "ax.set_ylabel('Budget')"
   ]
  },
  {
   "cell_type": "markdown",
   "id": "637deb3f",
   "metadata": {},
   "source": [
    "## Possible Worldwide Gross Outcomes"
   ]
  },
  {
   "cell_type": "code",
   "execution_count": 26,
   "id": "2f7d98fb",
   "metadata": {},
   "outputs": [
    {
     "data": {
      "text/plain": [
       "Text(0, 0.5, 'Gross')"
      ]
     },
     "execution_count": 26,
     "metadata": {},
     "output_type": "execute_result"
    },
    {
     "data": {
      "image/png": "[encoded data removed]",
      "text/plain": [
       "<Figure size 720x360 with 1 Axes>"
      ]
     },
     "metadata": {
      "needs_background": "light"
     },
     "output_type": "display_data"
    }
   ],
   "source": [
    "x = budgets_mid['production_budget']\n",
    "y = budgets_mid['worldwide_gross']\n",
    "\n",
    "fig, ax = plt.subplots(figsize=(10,5))\n",
    "ax.scatter(x,y)\n",
    "ax.set_title('Correlation Between Budgets and WW Gross')\n",
    "ax.set_xlabel('Budget')\n",
    "ax.set_ylabel('Gross')"
   ]
  },
  {
   "cell_type": "code",
   "execution_count": 27,
   "id": "c5dc8ff5",
   "metadata": {},
   "outputs": [
    {
     "data": {
      "text/html": [
       "<div>\n",
       "<style scoped>\n",
       "    .dataframe tbody tr th:only-of-type {\n",
       "        vertical-align: middle;\n",
       "    }\n",
       "\n",
       "    .dataframe tbody tr th {\n",
       "        vertical-align: top;\n",
       "    }\n",
       "\n",
       "    .dataframe thead th {\n",
       "        text-align: right;\n",
       "    }\n",
       "</style>\n",
       "<table border=\"1\" class=\"dataframe\">\n",
       "  <thead>\n",
       "    <tr style=\"text-align: right;\">\n",
       "      <th></th>\n",
       "      <th>release_date</th>\n",
       "      <th>movie</th>\n",
       "      <th>production_budget</th>\n",
       "      <th>worldwide_gross</th>\n",
       "      <th>release_month</th>\n",
       "      <th>release_year</th>\n",
       "    </tr>\n",
       "  </thead>\n",
       "  <tbody>\n",
       "    <tr>\n",
       "      <th>1377</th>\n",
       "      <td>Feb 13, 2015</td>\n",
       "      <td>Fifty Shades of Grey</td>\n",
       "      <td>40000000</td>\n",
       "      <td>570998101</td>\n",
       "      <td>Feb</td>\n",
       "      <td>2015</td>\n",
       "    </tr>\n",
       "    <tr>\n",
       "      <th>1380</th>\n",
       "      <td>May 17, 2019</td>\n",
       "      <td>John Wick: Chapter 3 â Parabellum</td>\n",
       "      <td>40000000</td>\n",
       "      <td>256498033</td>\n",
       "      <td>May</td>\n",
       "      <td>2019</td>\n",
       "    </tr>\n",
       "    <tr>\n",
       "      <th>1389</th>\n",
       "      <td>Jun 10, 2016</td>\n",
       "      <td>The Conjuring 2: The Enfield Poltergeist</td>\n",
       "      <td>40000000</td>\n",
       "      <td>311262102</td>\n",
       "      <td>Jun</td>\n",
       "      <td>2016</td>\n",
       "    </tr>\n",
       "    <tr>\n",
       "      <th>1393</th>\n",
       "      <td>Feb 10, 2017</td>\n",
       "      <td>John Wick: Chapter Two</td>\n",
       "      <td>40000000</td>\n",
       "      <td>171350009</td>\n",
       "      <td>Feb</td>\n",
       "      <td>2017</td>\n",
       "    </tr>\n",
       "    <tr>\n",
       "      <th>1394</th>\n",
       "      <td>Jan 15, 2016</td>\n",
       "      <td>Ride Along 2</td>\n",
       "      <td>40000000</td>\n",
       "      <td>124827316</td>\n",
       "      <td>Jan</td>\n",
       "      <td>2016</td>\n",
       "    </tr>\n",
       "  </tbody>\n",
       "</table>\n",
       "</div>"
      ],
      "text/plain": [
       "      release_date                                     movie  \\\n",
       "1377  Feb 13, 2015                      Fifty Shades of Grey   \n",
       "1380  May 17, 2019       John Wick: Chapter 3 â Parabellum   \n",
       "1389  Jun 10, 2016  The Conjuring 2: The Enfield Poltergeist   \n",
       "1393  Feb 10, 2017                    John Wick: Chapter Two   \n",
       "1394  Jan 15, 2016                              Ride Along 2   \n",
       "\n",
       "      production_budget  worldwide_gross release_month  release_year  \n",
       "1377           40000000        570998101           Feb          2015  \n",
       "1380           40000000        256498033           May          2019  \n",
       "1389           40000000        311262102           Jun          2016  \n",
       "1393           40000000        171350009           Feb          2017  \n",
       "1394           40000000        124827316           Jan          2016  "
      ]
     },
     "execution_count": 27,
     "metadata": {},
     "output_type": "execute_result"
    }
   ],
   "source": [
    "budgets_mid.head()"
   ]
  },
  {
   "cell_type": "code",
   "execution_count": 28,
   "id": "fbe8f723",
   "metadata": {
    "scrolled": true
   },
   "outputs": [
    {
     "data": {
      "text/html": [
       "<div>\n",
       "<style scoped>\n",
       "    .dataframe tbody tr th:only-of-type {\n",
       "        vertical-align: middle;\n",
       "    }\n",
       "\n",
       "    .dataframe tbody tr th {\n",
       "        vertical-align: top;\n",
       "    }\n",
       "\n",
       "    .dataframe thead th {\n",
       "        text-align: right;\n",
       "    }\n",
       "</style>\n",
       "<table border=\"1\" class=\"dataframe\">\n",
       "  <thead>\n",
       "    <tr style=\"text-align: right;\">\n",
       "      <th></th>\n",
       "      <th>production_budget</th>\n",
       "      <th>worldwide_gross</th>\n",
       "      <th>release_year</th>\n",
       "    </tr>\n",
       "  </thead>\n",
       "  <tbody>\n",
       "    <tr>\n",
       "      <th>count</th>\n",
       "      <td>463.00000</td>\n",
       "      <td>463.00000</td>\n",
       "      <td>463.00000</td>\n",
       "    </tr>\n",
       "    <tr>\n",
       "      <th>mean</th>\n",
       "      <td>18999762.41901</td>\n",
       "      <td>55488309.22462</td>\n",
       "      <td>2016.44708</td>\n",
       "    </tr>\n",
       "    <tr>\n",
       "      <th>std</th>\n",
       "      <td>10909736.71260</td>\n",
       "      <td>78894820.52246</td>\n",
       "      <td>1.29472</td>\n",
       "    </tr>\n",
       "    <tr>\n",
       "      <th>min</th>\n",
       "      <td>5000000.00000</td>\n",
       "      <td>0.00000</td>\n",
       "      <td>2015.00000</td>\n",
       "    </tr>\n",
       "    <tr>\n",
       "      <th>25%</th>\n",
       "      <td>10000000.00000</td>\n",
       "      <td>5897634.00000</td>\n",
       "      <td>2015.00000</td>\n",
       "    </tr>\n",
       "    <tr>\n",
       "      <th>50%</th>\n",
       "      <td>18000000.00000</td>\n",
       "      <td>30700192.00000</td>\n",
       "      <td>2016.00000</td>\n",
       "    </tr>\n",
       "    <tr>\n",
       "      <th>75%</th>\n",
       "      <td>28000000.00000</td>\n",
       "      <td>73502539.50000</td>\n",
       "      <td>2017.00000</td>\n",
       "    </tr>\n",
       "    <tr>\n",
       "      <th>max</th>\n",
       "      <td>40000000.00000</td>\n",
       "      <td>697457969.00000</td>\n",
       "      <td>2019.00000</td>\n",
       "    </tr>\n",
       "  </tbody>\n",
       "</table>\n",
       "</div>"
      ],
      "text/plain": [
       "       production_budget  worldwide_gross  release_year\n",
       "count          463.00000        463.00000     463.00000\n",
       "mean      18999762.41901   55488309.22462    2016.44708\n",
       "std       10909736.71260   78894820.52246       1.29472\n",
       "min        5000000.00000          0.00000    2015.00000\n",
       "25%       10000000.00000    5897634.00000    2015.00000\n",
       "50%       18000000.00000   30700192.00000    2016.00000\n",
       "75%       28000000.00000   73502539.50000    2017.00000\n",
       "max       40000000.00000  697457969.00000    2019.00000"
      ]
     },
     "execution_count": 28,
     "metadata": {},
     "output_type": "execute_result"
    }
   ],
   "source": [
    "budgets_mid.describe()"
   ]
  },
  {
   "cell_type": "code",
   "execution_count": 29,
   "id": "27fb8f22",
   "metadata": {},
   "outputs": [
    {
     "data": {
      "text/plain": [
       "2015    144\n",
       "2016    117\n",
       "2017     90\n",
       "2018     75\n",
       "2019     37\n",
       "Name: release_year, dtype: int64"
      ]
     },
     "execution_count": 29,
     "metadata": {},
     "output_type": "execute_result"
    }
   ],
   "source": [
    "budgets_mid['release_year'].value_counts()"
   ]
  },
  {
   "cell_type": "markdown",
   "id": "8938d0ee",
   "metadata": {},
   "source": [
    "# GENRE IDs\n",
    "\n",
    "cleaning up genre ids so i can join it with budgets csv - want to identify budgets/gross/genre ids to support our initial findings"
   ]
  },
  {
   "cell_type": "code",
   "execution_count": 30,
   "id": "98585177",
   "metadata": {},
   "outputs": [
    {
     "data": {
      "text/html": [
       "<div>\n",
       "<style scoped>\n",
       "    .dataframe tbody tr th:only-of-type {\n",
       "        vertical-align: middle;\n",
       "    }\n",
       "\n",
       "    .dataframe tbody tr th {\n",
       "        vertical-align: top;\n",
       "    }\n",
       "\n",
       "    .dataframe thead th {\n",
       "        text-align: right;\n",
       "    }\n",
       "</style>\n",
       "<table border=\"1\" class=\"dataframe\">\n",
       "  <thead>\n",
       "    <tr style=\"text-align: right;\">\n",
       "      <th></th>\n",
       "      <th>genre_ids</th>\n",
       "      <th>title</th>\n",
       "      <th>release_date</th>\n",
       "    </tr>\n",
       "  </thead>\n",
       "  <tbody>\n",
       "    <tr>\n",
       "      <th>0</th>\n",
       "      <td>[12, 14, 10751]</td>\n",
       "      <td>Harry Potter and the Deathly Hallows: Part 1</td>\n",
       "      <td>2010-11-19</td>\n",
       "    </tr>\n",
       "    <tr>\n",
       "      <th>1</th>\n",
       "      <td>[14, 12, 16, 10751]</td>\n",
       "      <td>How to Train Your Dragon</td>\n",
       "      <td>2010-03-26</td>\n",
       "    </tr>\n",
       "    <tr>\n",
       "      <th>2</th>\n",
       "      <td>[12, 28, 878]</td>\n",
       "      <td>Iron Man 2</td>\n",
       "      <td>2010-05-07</td>\n",
       "    </tr>\n",
       "    <tr>\n",
       "      <th>3</th>\n",
       "      <td>[16, 35, 10751]</td>\n",
       "      <td>Toy Story</td>\n",
       "      <td>1995-11-22</td>\n",
       "    </tr>\n",
       "    <tr>\n",
       "      <th>4</th>\n",
       "      <td>[28, 878, 12]</td>\n",
       "      <td>Inception</td>\n",
       "      <td>2010-07-16</td>\n",
       "    </tr>\n",
       "    <tr>\n",
       "      <th>...</th>\n",
       "      <td>...</td>\n",
       "      <td>...</td>\n",
       "      <td>...</td>\n",
       "    </tr>\n",
       "    <tr>\n",
       "      <th>26512</th>\n",
       "      <td>[27, 18]</td>\n",
       "      <td>Laboratory Conditions</td>\n",
       "      <td>2018-10-13</td>\n",
       "    </tr>\n",
       "    <tr>\n",
       "      <th>26513</th>\n",
       "      <td>[18, 53]</td>\n",
       "      <td>_EXHIBIT_84xxx_</td>\n",
       "      <td>2018-05-01</td>\n",
       "    </tr>\n",
       "    <tr>\n",
       "      <th>26514</th>\n",
       "      <td>[14, 28, 12]</td>\n",
       "      <td>The Last One</td>\n",
       "      <td>2018-10-01</td>\n",
       "    </tr>\n",
       "    <tr>\n",
       "      <th>26515</th>\n",
       "      <td>[10751, 12, 28]</td>\n",
       "      <td>Trailer Made</td>\n",
       "      <td>2018-06-22</td>\n",
       "    </tr>\n",
       "    <tr>\n",
       "      <th>26516</th>\n",
       "      <td>[53, 27]</td>\n",
       "      <td>The Church</td>\n",
       "      <td>2018-10-05</td>\n",
       "    </tr>\n",
       "  </tbody>\n",
       "</table>\n",
       "<p>26517 rows × 3 columns</p>\n",
       "</div>"
      ],
      "text/plain": [
       "                 genre_ids                                         title  \\\n",
       "0          [12, 14, 10751]  Harry Potter and the Deathly Hallows: Part 1   \n",
       "1      [14, 12, 16, 10751]                      How to Train Your Dragon   \n",
       "2            [12, 28, 878]                                    Iron Man 2   \n",
       "3          [16, 35, 10751]                                     Toy Story   \n",
       "4            [28, 878, 12]                                     Inception   \n",
       "...                    ...                                           ...   \n",
       "26512             [27, 18]                         Laboratory Conditions   \n",
       "26513             [18, 53]                               _EXHIBIT_84xxx_   \n",
       "26514         [14, 28, 12]                                  The Last One   \n",
       "26515      [10751, 12, 28]                                  Trailer Made   \n",
       "26516             [53, 27]                                    The Church   \n",
       "\n",
       "      release_date  \n",
       "0       2010-11-19  \n",
       "1       2010-03-26  \n",
       "2       2010-05-07  \n",
       "3       1995-11-22  \n",
       "4       2010-07-16  \n",
       "...            ...  \n",
       "26512   2018-10-13  \n",
       "26513   2018-05-01  \n",
       "26514   2018-10-01  \n",
       "26515   2018-06-22  \n",
       "26516   2018-10-05  \n",
       "\n",
       "[26517 rows x 3 columns]"
      ]
     },
     "execution_count": 30,
     "metadata": {},
     "output_type": "execute_result"
    }
   ],
   "source": [
    "genre_id_raw = pd.read_csv('/Users/leahschell/Documents/Flatiron/phase_1/microsoft/Microsoft-Pitch/zippedData/tmdb.movies.csv.gz')\n",
    "genre_id_raw = genre_id_raw[['genre_ids', 'title', 'release_date']]\n",
    "genre_id_raw"
   ]
  },
  {
   "cell_type": "code",
   "execution_count": 31,
   "id": "2d9a7bc3",
   "metadata": {},
   "outputs": [
    {
     "data": {
      "text/html": [
       "<div>\n",
       "<style scoped>\n",
       "    .dataframe tbody tr th:only-of-type {\n",
       "        vertical-align: middle;\n",
       "    }\n",
       "\n",
       "    .dataframe tbody tr th {\n",
       "        vertical-align: top;\n",
       "    }\n",
       "\n",
       "    .dataframe thead th {\n",
       "        text-align: right;\n",
       "    }\n",
       "</style>\n",
       "<table border=\"1\" class=\"dataframe\">\n",
       "  <thead>\n",
       "    <tr style=\"text-align: right;\">\n",
       "      <th></th>\n",
       "      <th>genre_ids</th>\n",
       "      <th>title</th>\n",
       "      <th>release_year</th>\n",
       "    </tr>\n",
       "  </thead>\n",
       "  <tbody>\n",
       "    <tr>\n",
       "      <th>0</th>\n",
       "      <td>[12, 14, 10751]</td>\n",
       "      <td>Harry Potter and the Deathly Hallows: Part 1</td>\n",
       "      <td>2010</td>\n",
       "    </tr>\n",
       "    <tr>\n",
       "      <th>1</th>\n",
       "      <td>[14, 12, 16, 10751]</td>\n",
       "      <td>How to Train Your Dragon</td>\n",
       "      <td>2010</td>\n",
       "    </tr>\n",
       "    <tr>\n",
       "      <th>2</th>\n",
       "      <td>[12, 28, 878]</td>\n",
       "      <td>Iron Man 2</td>\n",
       "      <td>2010</td>\n",
       "    </tr>\n",
       "    <tr>\n",
       "      <th>3</th>\n",
       "      <td>[16, 35, 10751]</td>\n",
       "      <td>Toy Story</td>\n",
       "      <td>1995</td>\n",
       "    </tr>\n",
       "    <tr>\n",
       "      <th>4</th>\n",
       "      <td>[28, 878, 12]</td>\n",
       "      <td>Inception</td>\n",
       "      <td>2010</td>\n",
       "    </tr>\n",
       "  </tbody>\n",
       "</table>\n",
       "</div>"
      ],
      "text/plain": [
       "             genre_ids                                         title  \\\n",
       "0      [12, 14, 10751]  Harry Potter and the Deathly Hallows: Part 1   \n",
       "1  [14, 12, 16, 10751]                      How to Train Your Dragon   \n",
       "2        [12, 28, 878]                                    Iron Man 2   \n",
       "3      [16, 35, 10751]                                     Toy Story   \n",
       "4        [28, 878, 12]                                     Inception   \n",
       "\n",
       "   release_year  \n",
       "0          2010  \n",
       "1          2010  \n",
       "2          2010  \n",
       "3          1995  \n",
       "4          2010  "
      ]
     },
     "execution_count": 31,
     "metadata": {},
     "output_type": "execute_result"
    }
   ],
   "source": [
    "genre_id_raw['release_year'] = genre_id_raw['release_date'].str[:4]\n",
    "genre_id_raw['release_year'] = genre_id_raw['release_year'].astype(int)\n",
    "genre_id_raw = genre_id_raw[['genre_ids', 'title', 'release_year']]\n",
    "genre_id_raw.head()"
   ]
  },
  {
   "cell_type": "code",
   "execution_count": 32,
   "id": "70813861",
   "metadata": {},
   "outputs": [
    {
     "data": {
      "text/plain": [
       "2016    3192\n",
       "2017    3145\n",
       "2018    2587\n",
       "2019      63\n",
       "2020       1\n",
       "Name: release_year, dtype: int64"
      ]
     },
     "execution_count": 32,
     "metadata": {},
     "output_type": "execute_result"
    }
   ],
   "source": [
    "genre_current = genre_id_raw[(genre_id_raw['release_year'] >= 2016)]\n",
    "genre_current['release_year'].value_counts()"
   ]
  },
  {
   "cell_type": "code",
   "execution_count": 33,
   "id": "722766b6",
   "metadata": {},
   "outputs": [
    {
     "data": {
      "text/html": [
       "<div>\n",
       "<style scoped>\n",
       "    .dataframe tbody tr th:only-of-type {\n",
       "        vertical-align: middle;\n",
       "    }\n",
       "\n",
       "    .dataframe tbody tr th {\n",
       "        vertical-align: top;\n",
       "    }\n",
       "\n",
       "    .dataframe thead th {\n",
       "        text-align: right;\n",
       "    }\n",
       "</style>\n",
       "<table border=\"1\" class=\"dataframe\">\n",
       "  <thead>\n",
       "    <tr style=\"text-align: right;\">\n",
       "      <th></th>\n",
       "      <th>genre_ids</th>\n",
       "      <th>title</th>\n",
       "      <th>release_year</th>\n",
       "    </tr>\n",
       "  </thead>\n",
       "  <tbody>\n",
       "    <tr>\n",
       "      <th>4535</th>\n",
       "      <td>[99, 80, 36, 10770]</td>\n",
       "      <td>Inside The Mob's Bloody Valentine</td>\n",
       "      <td>2017</td>\n",
       "    </tr>\n",
       "    <tr>\n",
       "      <th>5030</th>\n",
       "      <td>[35, 80]</td>\n",
       "      <td>Silent Night, Dead Night: A New Christmas Carol</td>\n",
       "      <td>2016</td>\n",
       "    </tr>\n",
       "    <tr>\n",
       "      <th>5316</th>\n",
       "      <td>[28, 18, 36]</td>\n",
       "      <td>Rurouni Kenshin</td>\n",
       "      <td>2016</td>\n",
       "    </tr>\n",
       "    <tr>\n",
       "      <th>11225</th>\n",
       "      <td>[80, 53, 9648, 18]</td>\n",
       "      <td>The Absent One</td>\n",
       "      <td>2016</td>\n",
       "    </tr>\n",
       "    <tr>\n",
       "      <th>11247</th>\n",
       "      <td>[35, 18]</td>\n",
       "      <td>Infinitely Polar Bear</td>\n",
       "      <td>2016</td>\n",
       "    </tr>\n",
       "    <tr>\n",
       "      <th>...</th>\n",
       "      <td>...</td>\n",
       "      <td>...</td>\n",
       "      <td>...</td>\n",
       "    </tr>\n",
       "    <tr>\n",
       "      <th>26512</th>\n",
       "      <td>[27, 18]</td>\n",
       "      <td>Laboratory Conditions</td>\n",
       "      <td>2018</td>\n",
       "    </tr>\n",
       "    <tr>\n",
       "      <th>26513</th>\n",
       "      <td>[18, 53]</td>\n",
       "      <td>_EXHIBIT_84xxx_</td>\n",
       "      <td>2018</td>\n",
       "    </tr>\n",
       "    <tr>\n",
       "      <th>26514</th>\n",
       "      <td>[14, 28, 12]</td>\n",
       "      <td>The Last One</td>\n",
       "      <td>2018</td>\n",
       "    </tr>\n",
       "    <tr>\n",
       "      <th>26515</th>\n",
       "      <td>[10751, 12, 28]</td>\n",
       "      <td>Trailer Made</td>\n",
       "      <td>2018</td>\n",
       "    </tr>\n",
       "    <tr>\n",
       "      <th>26516</th>\n",
       "      <td>[53, 27]</td>\n",
       "      <td>The Church</td>\n",
       "      <td>2018</td>\n",
       "    </tr>\n",
       "  </tbody>\n",
       "</table>\n",
       "<p>8988 rows × 3 columns</p>\n",
       "</div>"
      ],
      "text/plain": [
       "                 genre_ids                                            title  \\\n",
       "4535   [99, 80, 36, 10770]                Inside The Mob's Bloody Valentine   \n",
       "5030              [35, 80]  Silent Night, Dead Night: A New Christmas Carol   \n",
       "5316          [28, 18, 36]                                  Rurouni Kenshin   \n",
       "11225   [80, 53, 9648, 18]                                   The Absent One   \n",
       "11247             [35, 18]                            Infinitely Polar Bear   \n",
       "...                    ...                                              ...   \n",
       "26512             [27, 18]                            Laboratory Conditions   \n",
       "26513             [18, 53]                                  _EXHIBIT_84xxx_   \n",
       "26514         [14, 28, 12]                                     The Last One   \n",
       "26515      [10751, 12, 28]                                     Trailer Made   \n",
       "26516             [53, 27]                                       The Church   \n",
       "\n",
       "       release_year  \n",
       "4535           2017  \n",
       "5030           2016  \n",
       "5316           2016  \n",
       "11225          2016  \n",
       "11247          2016  \n",
       "...             ...  \n",
       "26512          2018  \n",
       "26513          2018  \n",
       "26514          2018  \n",
       "26515          2018  \n",
       "26516          2018  \n",
       "\n",
       "[8988 rows x 3 columns]"
      ]
     },
     "execution_count": 33,
     "metadata": {},
     "output_type": "execute_result"
    }
   ],
   "source": [
    "genre_current"
   ]
  },
  {
   "cell_type": "code",
   "execution_count": 34,
   "id": "d16769cd",
   "metadata": {},
   "outputs": [
    {
     "data": {
      "text/html": [
       "<div>\n",
       "<style scoped>\n",
       "    .dataframe tbody tr th:only-of-type {\n",
       "        vertical-align: middle;\n",
       "    }\n",
       "\n",
       "    .dataframe tbody tr th {\n",
       "        vertical-align: top;\n",
       "    }\n",
       "\n",
       "    .dataframe thead th {\n",
       "        text-align: right;\n",
       "    }\n",
       "</style>\n",
       "<table border=\"1\" class=\"dataframe\">\n",
       "  <thead>\n",
       "    <tr style=\"text-align: right;\">\n",
       "      <th></th>\n",
       "      <th>release_date</th>\n",
       "      <th>movie</th>\n",
       "      <th>production_budget</th>\n",
       "      <th>worldwide_gross</th>\n",
       "      <th>release_month</th>\n",
       "      <th>release_year</th>\n",
       "    </tr>\n",
       "  </thead>\n",
       "  <tbody>\n",
       "    <tr>\n",
       "      <th>0</th>\n",
       "      <td>Dec 18, 2009</td>\n",
       "      <td>Avatar</td>\n",
       "      <td>425000000</td>\n",
       "      <td>2776345279</td>\n",
       "      <td>Dec</td>\n",
       "      <td>2009</td>\n",
       "    </tr>\n",
       "    <tr>\n",
       "      <th>1</th>\n",
       "      <td>May 20, 2011</td>\n",
       "      <td>Pirates of the Caribbean: On Stranger Tides</td>\n",
       "      <td>410600000</td>\n",
       "      <td>1045663875</td>\n",
       "      <td>May</td>\n",
       "      <td>2011</td>\n",
       "    </tr>\n",
       "    <tr>\n",
       "      <th>2</th>\n",
       "      <td>Jun 7, 2019</td>\n",
       "      <td>Dark Phoenix</td>\n",
       "      <td>350000000</td>\n",
       "      <td>149762350</td>\n",
       "      <td>Jun</td>\n",
       "      <td>2019</td>\n",
       "    </tr>\n",
       "    <tr>\n",
       "      <th>3</th>\n",
       "      <td>May 1, 2015</td>\n",
       "      <td>Avengers: Age of Ultron</td>\n",
       "      <td>330600000</td>\n",
       "      <td>1403013963</td>\n",
       "      <td>May</td>\n",
       "      <td>2015</td>\n",
       "    </tr>\n",
       "    <tr>\n",
       "      <th>4</th>\n",
       "      <td>Dec 15, 2017</td>\n",
       "      <td>Star Wars Ep. VIII: The Last Jedi</td>\n",
       "      <td>317000000</td>\n",
       "      <td>1316721747</td>\n",
       "      <td>Dec</td>\n",
       "      <td>2017</td>\n",
       "    </tr>\n",
       "  </tbody>\n",
       "</table>\n",
       "</div>"
      ],
      "text/plain": [
       "   release_date                                        movie  \\\n",
       "0  Dec 18, 2009                                       Avatar   \n",
       "1  May 20, 2011  Pirates of the Caribbean: On Stranger Tides   \n",
       "2   Jun 7, 2019                                 Dark Phoenix   \n",
       "3   May 1, 2015                      Avengers: Age of Ultron   \n",
       "4  Dec 15, 2017            Star Wars Ep. VIII: The Last Jedi   \n",
       "\n",
       "   production_budget  worldwide_gross release_month  release_year  \n",
       "0          425000000       2776345279           Dec          2009  \n",
       "1          410600000       1045663875           May          2011  \n",
       "2          350000000        149762350           Jun          2019  \n",
       "3          330600000       1403013963           May          2015  \n",
       "4          317000000       1316721747           Dec          2017  "
      ]
     },
     "execution_count": 34,
     "metadata": {},
     "output_type": "execute_result"
    }
   ],
   "source": [
    "budgets.head()"
   ]
  },
  {
   "cell_type": "code",
   "execution_count": 35,
   "id": "346f42f7",
   "metadata": {},
   "outputs": [
    {
     "name": "stdout",
     "output_type": "stream",
     "text": [
      "<class 'pandas.core.frame.DataFrame'>\n",
      "RangeIndex: 5782 entries, 0 to 5781\n",
      "Data columns (total 6 columns):\n",
      " #   Column             Non-Null Count  Dtype \n",
      "---  ------             --------------  ----- \n",
      " 0   release_date       5782 non-null   object\n",
      " 1   movie              5782 non-null   object\n",
      " 2   production_budget  5782 non-null   int64 \n",
      " 3   worldwide_gross    5782 non-null   int64 \n",
      " 4   release_month      5782 non-null   object\n",
      " 5   release_year       5782 non-null   int64 \n",
      "dtypes: int64(3), object(3)\n",
      "memory usage: 271.2+ KB\n"
     ]
    }
   ],
   "source": [
    "budgets.info()"
   ]
  },
  {
   "cell_type": "code",
   "execution_count": 36,
   "id": "5f79244a",
   "metadata": {},
   "outputs": [
    {
     "data": {
      "text/html": [
       "<div>\n",
       "<style scoped>\n",
       "    .dataframe tbody tr th:only-of-type {\n",
       "        vertical-align: middle;\n",
       "    }\n",
       "\n",
       "    .dataframe tbody tr th {\n",
       "        vertical-align: top;\n",
       "    }\n",
       "\n",
       "    .dataframe thead th {\n",
       "        text-align: right;\n",
       "    }\n",
       "</style>\n",
       "<table border=\"1\" class=\"dataframe\">\n",
       "  <thead>\n",
       "    <tr style=\"text-align: right;\">\n",
       "      <th></th>\n",
       "      <th>release_date</th>\n",
       "      <th>movie</th>\n",
       "      <th>production_budget</th>\n",
       "      <th>worldwide_gross</th>\n",
       "      <th>release_month</th>\n",
       "      <th>release_year</th>\n",
       "    </tr>\n",
       "  </thead>\n",
       "  <tbody>\n",
       "    <tr>\n",
       "      <th>0</th>\n",
       "      <td>Dec 18, 2009</td>\n",
       "      <td>Avatar</td>\n",
       "      <td>425000000</td>\n",
       "      <td>2776345279</td>\n",
       "      <td>Dec</td>\n",
       "      <td>2009</td>\n",
       "    </tr>\n",
       "    <tr>\n",
       "      <th>1</th>\n",
       "      <td>May 20, 2011</td>\n",
       "      <td>Pirates of the Caribbean: On Stranger Tides</td>\n",
       "      <td>410600000</td>\n",
       "      <td>1045663875</td>\n",
       "      <td>May</td>\n",
       "      <td>2011</td>\n",
       "    </tr>\n",
       "    <tr>\n",
       "      <th>2</th>\n",
       "      <td>Jun 7, 2019</td>\n",
       "      <td>Dark Phoenix</td>\n",
       "      <td>350000000</td>\n",
       "      <td>149762350</td>\n",
       "      <td>Jun</td>\n",
       "      <td>2019</td>\n",
       "    </tr>\n",
       "    <tr>\n",
       "      <th>3</th>\n",
       "      <td>May 1, 2015</td>\n",
       "      <td>Avengers: Age of Ultron</td>\n",
       "      <td>330600000</td>\n",
       "      <td>1403013963</td>\n",
       "      <td>May</td>\n",
       "      <td>2015</td>\n",
       "    </tr>\n",
       "    <tr>\n",
       "      <th>4</th>\n",
       "      <td>Dec 15, 2017</td>\n",
       "      <td>Star WarsI: The Last Jedi</td>\n",
       "      <td>317000000</td>\n",
       "      <td>1316721747</td>\n",
       "      <td>Dec</td>\n",
       "      <td>2017</td>\n",
       "    </tr>\n",
       "  </tbody>\n",
       "</table>\n",
       "</div>"
      ],
      "text/plain": [
       "   release_date                                        movie  \\\n",
       "0  Dec 18, 2009                                       Avatar   \n",
       "1  May 20, 2011  Pirates of the Caribbean: On Stranger Tides   \n",
       "2   Jun 7, 2019                                 Dark Phoenix   \n",
       "3   May 1, 2015                      Avengers: Age of Ultron   \n",
       "4  Dec 15, 2017                    Star WarsI: The Last Jedi   \n",
       "\n",
       "   production_budget  worldwide_gross release_month  release_year  \n",
       "0          425000000       2776345279           Dec          2009  \n",
       "1          410600000       1045663875           May          2011  \n",
       "2          350000000        149762350           Jun          2019  \n",
       "3          330600000       1403013963           May          2015  \n",
       "4          317000000       1316721747           Dec          2017  "
      ]
     },
     "execution_count": 36,
     "metadata": {},
     "output_type": "execute_result"
    }
   ],
   "source": [
    "budgets['movie'] = budgets['movie'].str.replace(' Ep. VII', '')\n",
    "\n",
    "budgets.head()"
   ]
  },
  {
   "cell_type": "code",
   "execution_count": 37,
   "id": "0c442f70",
   "metadata": {},
   "outputs": [
    {
     "data": {
      "text/plain": [
       "False    5781\n",
       "True        1\n",
       "Name: movie, dtype: int64"
      ]
     },
     "execution_count": 37,
     "metadata": {},
     "output_type": "execute_result"
    }
   ],
   "source": [
    "something = budgets['movie'] == 'Star Wars: The Force Awakens'\n",
    "something.value_counts()"
   ]
  },
  {
   "cell_type": "code",
   "execution_count": 38,
   "id": "ae98728d",
   "metadata": {},
   "outputs": [
    {
     "data": {
      "text/html": [
       "<div>\n",
       "<style scoped>\n",
       "    .dataframe tbody tr th:only-of-type {\n",
       "        vertical-align: middle;\n",
       "    }\n",
       "\n",
       "    .dataframe tbody tr th {\n",
       "        vertical-align: top;\n",
       "    }\n",
       "\n",
       "    .dataframe thead th {\n",
       "        text-align: right;\n",
       "    }\n",
       "</style>\n",
       "<table border=\"1\" class=\"dataframe\">\n",
       "  <thead>\n",
       "    <tr style=\"text-align: right;\">\n",
       "      <th></th>\n",
       "      <th>release_date</th>\n",
       "      <th>movie</th>\n",
       "      <th>production_budget</th>\n",
       "      <th>worldwide_gross</th>\n",
       "      <th>release_month</th>\n",
       "      <th>release_year</th>\n",
       "    </tr>\n",
       "  </thead>\n",
       "  <tbody>\n",
       "    <tr>\n",
       "      <th>0</th>\n",
       "      <td>Dec 18, 2009</td>\n",
       "      <td>Avatar</td>\n",
       "      <td>425000000</td>\n",
       "      <td>2776345279</td>\n",
       "      <td>Dec</td>\n",
       "      <td>2009</td>\n",
       "    </tr>\n",
       "    <tr>\n",
       "      <th>1</th>\n",
       "      <td>May 20, 2011</td>\n",
       "      <td>Pirates of the Caribbean: On Stranger Tides</td>\n",
       "      <td>410600000</td>\n",
       "      <td>1045663875</td>\n",
       "      <td>May</td>\n",
       "      <td>2011</td>\n",
       "    </tr>\n",
       "    <tr>\n",
       "      <th>2</th>\n",
       "      <td>Jun 7, 2019</td>\n",
       "      <td>Dark Phoenix</td>\n",
       "      <td>350000000</td>\n",
       "      <td>149762350</td>\n",
       "      <td>Jun</td>\n",
       "      <td>2019</td>\n",
       "    </tr>\n",
       "    <tr>\n",
       "      <th>3</th>\n",
       "      <td>May 1, 2015</td>\n",
       "      <td>Avengers: Age of Ultron</td>\n",
       "      <td>330600000</td>\n",
       "      <td>1403013963</td>\n",
       "      <td>May</td>\n",
       "      <td>2015</td>\n",
       "    </tr>\n",
       "    <tr>\n",
       "      <th>4</th>\n",
       "      <td>Dec 15, 2017</td>\n",
       "      <td>Star Wars: The Last Jedi</td>\n",
       "      <td>317000000</td>\n",
       "      <td>1316721747</td>\n",
       "      <td>Dec</td>\n",
       "      <td>2017</td>\n",
       "    </tr>\n",
       "  </tbody>\n",
       "</table>\n",
       "</div>"
      ],
      "text/plain": [
       "   release_date                                        movie  \\\n",
       "0  Dec 18, 2009                                       Avatar   \n",
       "1  May 20, 2011  Pirates of the Caribbean: On Stranger Tides   \n",
       "2   Jun 7, 2019                                 Dark Phoenix   \n",
       "3   May 1, 2015                      Avengers: Age of Ultron   \n",
       "4  Dec 15, 2017                     Star Wars: The Last Jedi   \n",
       "\n",
       "   production_budget  worldwide_gross release_month  release_year  \n",
       "0          425000000       2776345279           Dec          2009  \n",
       "1          410600000       1045663875           May          2011  \n",
       "2          350000000        149762350           Jun          2019  \n",
       "3          330600000       1403013963           May          2015  \n",
       "4          317000000       1316721747           Dec          2017  "
      ]
     },
     "execution_count": 38,
     "metadata": {},
     "output_type": "execute_result"
    }
   ],
   "source": [
    "budgets['movie'] = budgets['movie'].str.replace('Star WarsI', 'Star Wars')\n",
    "budgets.head()"
   ]
  },
  {
   "cell_type": "code",
   "execution_count": 39,
   "id": "bb710f5c",
   "metadata": {},
   "outputs": [
    {
     "data": {
      "text/html": [
       "<div>\n",
       "<style scoped>\n",
       "    .dataframe tbody tr th:only-of-type {\n",
       "        vertical-align: middle;\n",
       "    }\n",
       "\n",
       "    .dataframe tbody tr th {\n",
       "        vertical-align: top;\n",
       "    }\n",
       "\n",
       "    .dataframe thead th {\n",
       "        text-align: right;\n",
       "    }\n",
       "</style>\n",
       "<table border=\"1\" class=\"dataframe\">\n",
       "  <thead>\n",
       "    <tr style=\"text-align: right;\">\n",
       "      <th></th>\n",
       "      <th>release_date</th>\n",
       "      <th>movie</th>\n",
       "      <th>production_budget</th>\n",
       "      <th>worldwide_gross</th>\n",
       "      <th>release_month</th>\n",
       "      <th>release_year</th>\n",
       "    </tr>\n",
       "  </thead>\n",
       "  <tbody>\n",
       "    <tr>\n",
       "      <th>0</th>\n",
       "      <td>Dec 18, 2009</td>\n",
       "      <td>Avatar</td>\n",
       "      <td>425000000</td>\n",
       "      <td>2776345279</td>\n",
       "      <td>12</td>\n",
       "      <td>2009</td>\n",
       "    </tr>\n",
       "    <tr>\n",
       "      <th>1</th>\n",
       "      <td>May 20, 2011</td>\n",
       "      <td>Pirates of the Caribbean: On Stranger Tides</td>\n",
       "      <td>410600000</td>\n",
       "      <td>1045663875</td>\n",
       "      <td>5</td>\n",
       "      <td>2011</td>\n",
       "    </tr>\n",
       "    <tr>\n",
       "      <th>2</th>\n",
       "      <td>Jun 7, 2019</td>\n",
       "      <td>Dark Phoenix</td>\n",
       "      <td>350000000</td>\n",
       "      <td>149762350</td>\n",
       "      <td>6</td>\n",
       "      <td>2019</td>\n",
       "    </tr>\n",
       "    <tr>\n",
       "      <th>3</th>\n",
       "      <td>May 1, 2015</td>\n",
       "      <td>Avengers: Age of Ultron</td>\n",
       "      <td>330600000</td>\n",
       "      <td>1403013963</td>\n",
       "      <td>5</td>\n",
       "      <td>2015</td>\n",
       "    </tr>\n",
       "    <tr>\n",
       "      <th>4</th>\n",
       "      <td>Dec 15, 2017</td>\n",
       "      <td>Star Wars: The Last Jedi</td>\n",
       "      <td>317000000</td>\n",
       "      <td>1316721747</td>\n",
       "      <td>12</td>\n",
       "      <td>2017</td>\n",
       "    </tr>\n",
       "  </tbody>\n",
       "</table>\n",
       "</div>"
      ],
      "text/plain": [
       "   release_date                                        movie  \\\n",
       "0  Dec 18, 2009                                       Avatar   \n",
       "1  May 20, 2011  Pirates of the Caribbean: On Stranger Tides   \n",
       "2   Jun 7, 2019                                 Dark Phoenix   \n",
       "3   May 1, 2015                      Avengers: Age of Ultron   \n",
       "4  Dec 15, 2017                     Star Wars: The Last Jedi   \n",
       "\n",
       "   production_budget  worldwide_gross  release_month  release_year  \n",
       "0          425000000       2776345279             12          2009  \n",
       "1          410600000       1045663875              5          2011  \n",
       "2          350000000        149762350              6          2019  \n",
       "3          330600000       1403013963              5          2015  \n",
       "4          317000000       1316721747             12          2017  "
      ]
     },
     "execution_count": 39,
     "metadata": {},
     "output_type": "execute_result"
    }
   ],
   "source": [
    "budgets['release_month'] = budgets['release_month'].str.replace('Jan', '01')\n",
    "budgets['release_month'] = budgets['release_month'].str.replace('Feb', '02')\n",
    "budgets['release_month'] = budgets['release_month'].str.replace('Mar', '03')\n",
    "budgets['release_month'] = budgets['release_month'].str.replace('Apr', '04')\n",
    "budgets['release_month'] = budgets['release_month'].str.replace('May', '05')\n",
    "budgets['release_month'] = budgets['release_month'].str.replace('Jun', '06')\n",
    "budgets['release_month'] = budgets['release_month'].str.replace('Jul', '07')\n",
    "budgets['release_month'] = budgets['release_month'].str.replace('Aug', '08')\n",
    "budgets['release_month'] = budgets['release_month'].str.replace('Sep', '09')\n",
    "budgets['release_month'] = budgets['release_month'].str.replace('Oct', '10')\n",
    "budgets['release_month'] = budgets['release_month'].str.replace('Nov', '11')\n",
    "budgets['release_month'] = budgets['release_month'].str.replace('Dec', '12')\n",
    "budgets['release_month'] = budgets['release_month'].astype(int)\n",
    "budgets.head()"
   ]
  },
  {
   "cell_type": "code",
   "execution_count": 40,
   "id": "4409032d",
   "metadata": {},
   "outputs": [
    {
     "data": {
      "text/plain": [
       "2016    219\n",
       "2017    168\n",
       "2018    143\n",
       "2019     67\n",
       "2020      3\n",
       "Name: release_year, dtype: int64"
      ]
     },
     "execution_count": 40,
     "metadata": {},
     "output_type": "execute_result"
    }
   ],
   "source": [
    "budgets = budgets[(budgets['release_year'] >= 2016)]\n",
    "budgets['release_year'].value_counts()"
   ]
  },
  {
   "cell_type": "code",
   "execution_count": 41,
   "id": "7e7e2f2e",
   "metadata": {},
   "outputs": [
    {
     "data": {
      "text/html": [
       "<div>\n",
       "<style scoped>\n",
       "    .dataframe tbody tr th:only-of-type {\n",
       "        vertical-align: middle;\n",
       "    }\n",
       "\n",
       "    .dataframe tbody tr th {\n",
       "        vertical-align: top;\n",
       "    }\n",
       "\n",
       "    .dataframe thead th {\n",
       "        text-align: right;\n",
       "    }\n",
       "</style>\n",
       "<table border=\"1\" class=\"dataframe\">\n",
       "  <thead>\n",
       "    <tr style=\"text-align: right;\">\n",
       "      <th></th>\n",
       "      <th>production_budget</th>\n",
       "      <th>worldwide_gross</th>\n",
       "      <th>release_month</th>\n",
       "      <th>release_year</th>\n",
       "    </tr>\n",
       "  </thead>\n",
       "  <tbody>\n",
       "    <tr>\n",
       "      <th>count</th>\n",
       "      <td>600.00000</td>\n",
       "      <td>600.00000</td>\n",
       "      <td>600.00000</td>\n",
       "      <td>600.00000</td>\n",
       "    </tr>\n",
       "    <tr>\n",
       "      <th>mean</th>\n",
       "      <td>46796283.33333</td>\n",
       "      <td>149948419.98500</td>\n",
       "      <td>6.59500</td>\n",
       "      <td>2017.11167</td>\n",
       "    </tr>\n",
       "    <tr>\n",
       "      <th>std</th>\n",
       "      <td>57374337.54672</td>\n",
       "      <td>253763078.13732</td>\n",
       "      <td>3.61424</td>\n",
       "      <td>1.04132</td>\n",
       "    </tr>\n",
       "    <tr>\n",
       "      <th>min</th>\n",
       "      <td>7000.00000</td>\n",
       "      <td>0.00000</td>\n",
       "      <td>1.00000</td>\n",
       "      <td>2016.00000</td>\n",
       "    </tr>\n",
       "    <tr>\n",
       "      <th>25%</th>\n",
       "      <td>9000000.00000</td>\n",
       "      <td>7547908.00000</td>\n",
       "      <td>3.00000</td>\n",
       "      <td>2016.00000</td>\n",
       "    </tr>\n",
       "    <tr>\n",
       "      <th>50%</th>\n",
       "      <td>25000000.00000</td>\n",
       "      <td>46335146.50000</td>\n",
       "      <td>6.00000</td>\n",
       "      <td>2017.00000</td>\n",
       "    </tr>\n",
       "    <tr>\n",
       "      <th>75%</th>\n",
       "      <td>59625000.00000</td>\n",
       "      <td>169251986.25000</td>\n",
       "      <td>10.00000</td>\n",
       "      <td>2018.00000</td>\n",
       "    </tr>\n",
       "    <tr>\n",
       "      <th>max</th>\n",
       "      <td>350000000.00000</td>\n",
       "      <td>2048134200.00000</td>\n",
       "      <td>12.00000</td>\n",
       "      <td>2020.00000</td>\n",
       "    </tr>\n",
       "  </tbody>\n",
       "</table>\n",
       "</div>"
      ],
      "text/plain": [
       "       production_budget  worldwide_gross  release_month  release_year\n",
       "count          600.00000        600.00000      600.00000     600.00000\n",
       "mean      46796283.33333  149948419.98500        6.59500    2017.11167\n",
       "std       57374337.54672  253763078.13732        3.61424       1.04132\n",
       "min           7000.00000          0.00000        1.00000    2016.00000\n",
       "25%        9000000.00000    7547908.00000        3.00000    2016.00000\n",
       "50%       25000000.00000   46335146.50000        6.00000    2017.00000\n",
       "75%       59625000.00000  169251986.25000       10.00000    2018.00000\n",
       "max      350000000.00000 2048134200.00000       12.00000    2020.00000"
      ]
     },
     "execution_count": 41,
     "metadata": {},
     "output_type": "execute_result"
    }
   ],
   "source": [
    "budgets.describe()"
   ]
  },
  {
   "cell_type": "markdown",
   "id": "330d1605",
   "metadata": {},
   "source": [
    "# JOIN\n",
    "\n",
    "budgets and genres"
   ]
  },
  {
   "cell_type": "code",
   "execution_count": 42,
   "id": "7f7c7d23",
   "metadata": {},
   "outputs": [
    {
     "data": {
      "text/html": [
       "<div>\n",
       "<style scoped>\n",
       "    .dataframe tbody tr th:only-of-type {\n",
       "        vertical-align: middle;\n",
       "    }\n",
       "\n",
       "    .dataframe tbody tr th {\n",
       "        vertical-align: top;\n",
       "    }\n",
       "\n",
       "    .dataframe thead th {\n",
       "        text-align: right;\n",
       "    }\n",
       "</style>\n",
       "<table border=\"1\" class=\"dataframe\">\n",
       "  <thead>\n",
       "    <tr style=\"text-align: right;\">\n",
       "      <th></th>\n",
       "      <th>release_date</th>\n",
       "      <th>movie</th>\n",
       "      <th>production_budget</th>\n",
       "      <th>worldwide_gross</th>\n",
       "      <th>release_month</th>\n",
       "      <th>release_year_x</th>\n",
       "      <th>genre_ids</th>\n",
       "      <th>title</th>\n",
       "      <th>release_year_y</th>\n",
       "    </tr>\n",
       "  </thead>\n",
       "  <tbody>\n",
       "    <tr>\n",
       "      <th>0</th>\n",
       "      <td>Dec 15, 2017</td>\n",
       "      <td>Star Wars: The Last Jedi</td>\n",
       "      <td>317000000</td>\n",
       "      <td>1316721747</td>\n",
       "      <td>12</td>\n",
       "      <td>2017</td>\n",
       "      <td>[14, 12, 878, 28]</td>\n",
       "      <td>Star Wars: The Last Jedi</td>\n",
       "      <td>2017</td>\n",
       "    </tr>\n",
       "    <tr>\n",
       "      <th>1</th>\n",
       "      <td>Dec 15, 2017</td>\n",
       "      <td>Star Wars: The Last Jedi</td>\n",
       "      <td>317000000</td>\n",
       "      <td>1316721747</td>\n",
       "      <td>12</td>\n",
       "      <td>2017</td>\n",
       "      <td>[14, 12, 878, 28]</td>\n",
       "      <td>Star Wars: The Last Jedi</td>\n",
       "      <td>2017</td>\n",
       "    </tr>\n",
       "    <tr>\n",
       "      <th>2</th>\n",
       "      <td>Apr 27, 2018</td>\n",
       "      <td>Avengers: Infinity War</td>\n",
       "      <td>300000000</td>\n",
       "      <td>2048134200</td>\n",
       "      <td>4</td>\n",
       "      <td>2018</td>\n",
       "      <td>[12, 28, 14]</td>\n",
       "      <td>Avengers: Infinity War</td>\n",
       "      <td>2018</td>\n",
       "    </tr>\n",
       "    <tr>\n",
       "      <th>3</th>\n",
       "      <td>Nov 17, 2017</td>\n",
       "      <td>Justice League</td>\n",
       "      <td>300000000</td>\n",
       "      <td>655945209</td>\n",
       "      <td>11</td>\n",
       "      <td>2017</td>\n",
       "      <td>[28, 12, 14, 878]</td>\n",
       "      <td>Justice League</td>\n",
       "      <td>2017</td>\n",
       "    </tr>\n",
       "    <tr>\n",
       "      <th>4</th>\n",
       "      <td>Nov 17, 2017</td>\n",
       "      <td>Justice League</td>\n",
       "      <td>300000000</td>\n",
       "      <td>655945209</td>\n",
       "      <td>11</td>\n",
       "      <td>2017</td>\n",
       "      <td>[28, 12, 14, 878]</td>\n",
       "      <td>Justice League</td>\n",
       "      <td>2017</td>\n",
       "    </tr>\n",
       "    <tr>\n",
       "      <th>...</th>\n",
       "      <td>...</td>\n",
       "      <td>...</td>\n",
       "      <td>...</td>\n",
       "      <td>...</td>\n",
       "      <td>...</td>\n",
       "      <td>...</td>\n",
       "      <td>...</td>\n",
       "      <td>...</td>\n",
       "      <td>...</td>\n",
       "    </tr>\n",
       "    <tr>\n",
       "      <th>535</th>\n",
       "      <td>Jun 16, 2017</td>\n",
       "      <td>Arrowhead</td>\n",
       "      <td>180000</td>\n",
       "      <td>0</td>\n",
       "      <td>6</td>\n",
       "      <td>2017</td>\n",
       "      <td>[28, 12, 9648, 878]</td>\n",
       "      <td>Arrowhead</td>\n",
       "      <td>2017</td>\n",
       "    </tr>\n",
       "    <tr>\n",
       "      <th>536</th>\n",
       "      <td>Jun 3, 2016</td>\n",
       "      <td>The Fits</td>\n",
       "      <td>170000</td>\n",
       "      <td>169242</td>\n",
       "      <td>6</td>\n",
       "      <td>2016</td>\n",
       "      <td>[18]</td>\n",
       "      <td>The Fits</td>\n",
       "      <td>2016</td>\n",
       "    </tr>\n",
       "    <tr>\n",
       "      <th>537</th>\n",
       "      <td>Jul 7, 2017</td>\n",
       "      <td>A Ghost Story</td>\n",
       "      <td>100000</td>\n",
       "      <td>2769782</td>\n",
       "      <td>7</td>\n",
       "      <td>2017</td>\n",
       "      <td>[18, 14, 10749]</td>\n",
       "      <td>A Ghost Story</td>\n",
       "      <td>2017</td>\n",
       "    </tr>\n",
       "    <tr>\n",
       "      <th>538</th>\n",
       "      <td>Mar 18, 2016</td>\n",
       "      <td>Krisha</td>\n",
       "      <td>30000</td>\n",
       "      <td>144822</td>\n",
       "      <td>3</td>\n",
       "      <td>2016</td>\n",
       "      <td>[18]</td>\n",
       "      <td>Krisha</td>\n",
       "      <td>2016</td>\n",
       "    </tr>\n",
       "    <tr>\n",
       "      <th>539</th>\n",
       "      <td>Mar 18, 2016</td>\n",
       "      <td>Krisha</td>\n",
       "      <td>30000</td>\n",
       "      <td>144822</td>\n",
       "      <td>3</td>\n",
       "      <td>2016</td>\n",
       "      <td>[18]</td>\n",
       "      <td>Krisha</td>\n",
       "      <td>2016</td>\n",
       "    </tr>\n",
       "  </tbody>\n",
       "</table>\n",
       "<p>540 rows × 9 columns</p>\n",
       "</div>"
      ],
      "text/plain": [
       "     release_date                     movie  production_budget  \\\n",
       "0    Dec 15, 2017  Star Wars: The Last Jedi          317000000   \n",
       "1    Dec 15, 2017  Star Wars: The Last Jedi          317000000   \n",
       "2    Apr 27, 2018    Avengers: Infinity War          300000000   \n",
       "3    Nov 17, 2017            Justice League          300000000   \n",
       "4    Nov 17, 2017            Justice League          300000000   \n",
       "..            ...                       ...                ...   \n",
       "535  Jun 16, 2017                 Arrowhead             180000   \n",
       "536   Jun 3, 2016                  The Fits             170000   \n",
       "537   Jul 7, 2017             A Ghost Story             100000   \n",
       "538  Mar 18, 2016                    Krisha              30000   \n",
       "539  Mar 18, 2016                    Krisha              30000   \n",
       "\n",
       "     worldwide_gross  release_month  release_year_x            genre_ids  \\\n",
       "0         1316721747             12            2017    [14, 12, 878, 28]   \n",
       "1         1316721747             12            2017    [14, 12, 878, 28]   \n",
       "2         2048134200              4            2018         [12, 28, 14]   \n",
       "3          655945209             11            2017    [28, 12, 14, 878]   \n",
       "4          655945209             11            2017    [28, 12, 14, 878]   \n",
       "..               ...            ...             ...                  ...   \n",
       "535                0              6            2017  [28, 12, 9648, 878]   \n",
       "536           169242              6            2016                 [18]   \n",
       "537          2769782              7            2017      [18, 14, 10749]   \n",
       "538           144822              3            2016                 [18]   \n",
       "539           144822              3            2016                 [18]   \n",
       "\n",
       "                        title  release_year_y  \n",
       "0    Star Wars: The Last Jedi            2017  \n",
       "1    Star Wars: The Last Jedi            2017  \n",
       "2      Avengers: Infinity War            2018  \n",
       "3              Justice League            2017  \n",
       "4              Justice League            2017  \n",
       "..                        ...             ...  \n",
       "535                 Arrowhead            2017  \n",
       "536                  The Fits            2016  \n",
       "537             A Ghost Story            2017  \n",
       "538                    Krisha            2016  \n",
       "539                    Krisha            2016  \n",
       "\n",
       "[540 rows x 9 columns]"
      ]
     },
     "execution_count": 42,
     "metadata": {},
     "output_type": "execute_result"
    }
   ],
   "source": [
    "budgets_genres = budgets.merge(genre_current,\n",
    "             left_on='movie',\n",
    "             right_on = 'title',\n",
    "             how='inner')\n",
    "budgets_genres"
   ]
  },
  {
   "cell_type": "code",
   "execution_count": 87,
   "id": "9c0cde6a",
   "metadata": {},
   "outputs": [
    {
     "data": {
      "text/html": [
       "<div>\n",
       "<style scoped>\n",
       "    .dataframe tbody tr th:only-of-type {\n",
       "        vertical-align: middle;\n",
       "    }\n",
       "\n",
       "    .dataframe tbody tr th {\n",
       "        vertical-align: top;\n",
       "    }\n",
       "\n",
       "    .dataframe thead th {\n",
       "        text-align: right;\n",
       "    }\n",
       "</style>\n",
       "<table border=\"1\" class=\"dataframe\">\n",
       "  <thead>\n",
       "    <tr style=\"text-align: right;\">\n",
       "      <th></th>\n",
       "      <th>movie</th>\n",
       "      <th>production_budget</th>\n",
       "      <th>worldwide_gross</th>\n",
       "      <th>release_month</th>\n",
       "      <th>release_year_x</th>\n",
       "      <th>genre_ids</th>\n",
       "    </tr>\n",
       "  </thead>\n",
       "  <tbody>\n",
       "    <tr>\n",
       "      <th>0</th>\n",
       "      <td>Star Wars: The Last Jedi</td>\n",
       "      <td>317000000</td>\n",
       "      <td>1316721747</td>\n",
       "      <td>12</td>\n",
       "      <td>2017</td>\n",
       "      <td>[14, 12, 878, 28]</td>\n",
       "    </tr>\n",
       "    <tr>\n",
       "      <th>1</th>\n",
       "      <td>Star Wars: The Last Jedi</td>\n",
       "      <td>317000000</td>\n",
       "      <td>1316721747</td>\n",
       "      <td>12</td>\n",
       "      <td>2017</td>\n",
       "      <td>[14, 12, 878, 28]</td>\n",
       "    </tr>\n",
       "    <tr>\n",
       "      <th>2</th>\n",
       "      <td>Avengers: Infinity War</td>\n",
       "      <td>300000000</td>\n",
       "      <td>2048134200</td>\n",
       "      <td>4</td>\n",
       "      <td>2018</td>\n",
       "      <td>[12, 28, 14]</td>\n",
       "    </tr>\n",
       "    <tr>\n",
       "      <th>3</th>\n",
       "      <td>Justice League</td>\n",
       "      <td>300000000</td>\n",
       "      <td>655945209</td>\n",
       "      <td>11</td>\n",
       "      <td>2017</td>\n",
       "      <td>[28, 12, 14, 878]</td>\n",
       "    </tr>\n",
       "    <tr>\n",
       "      <th>4</th>\n",
       "      <td>Justice League</td>\n",
       "      <td>300000000</td>\n",
       "      <td>655945209</td>\n",
       "      <td>11</td>\n",
       "      <td>2017</td>\n",
       "      <td>[28, 12, 14, 878]</td>\n",
       "    </tr>\n",
       "    <tr>\n",
       "      <th>...</th>\n",
       "      <td>...</td>\n",
       "      <td>...</td>\n",
       "      <td>...</td>\n",
       "      <td>...</td>\n",
       "      <td>...</td>\n",
       "      <td>...</td>\n",
       "    </tr>\n",
       "    <tr>\n",
       "      <th>535</th>\n",
       "      <td>Arrowhead</td>\n",
       "      <td>180000</td>\n",
       "      <td>0</td>\n",
       "      <td>6</td>\n",
       "      <td>2017</td>\n",
       "      <td>[28, 12, 9648, 878]</td>\n",
       "    </tr>\n",
       "    <tr>\n",
       "      <th>536</th>\n",
       "      <td>The Fits</td>\n",
       "      <td>170000</td>\n",
       "      <td>169242</td>\n",
       "      <td>6</td>\n",
       "      <td>2016</td>\n",
       "      <td>[18]</td>\n",
       "    </tr>\n",
       "    <tr>\n",
       "      <th>537</th>\n",
       "      <td>A Ghost Story</td>\n",
       "      <td>100000</td>\n",
       "      <td>2769782</td>\n",
       "      <td>7</td>\n",
       "      <td>2017</td>\n",
       "      <td>[18, 14, 10749]</td>\n",
       "    </tr>\n",
       "    <tr>\n",
       "      <th>538</th>\n",
       "      <td>Krisha</td>\n",
       "      <td>30000</td>\n",
       "      <td>144822</td>\n",
       "      <td>3</td>\n",
       "      <td>2016</td>\n",
       "      <td>[18]</td>\n",
       "    </tr>\n",
       "    <tr>\n",
       "      <th>539</th>\n",
       "      <td>Krisha</td>\n",
       "      <td>30000</td>\n",
       "      <td>144822</td>\n",
       "      <td>3</td>\n",
       "      <td>2016</td>\n",
       "      <td>[18]</td>\n",
       "    </tr>\n",
       "  </tbody>\n",
       "</table>\n",
       "<p>540 rows × 6 columns</p>\n",
       "</div>"
      ],
      "text/plain": [
       "                        movie  production_budget  worldwide_gross  \\\n",
       "0    Star Wars: The Last Jedi          317000000       1316721747   \n",
       "1    Star Wars: The Last Jedi          317000000       1316721747   \n",
       "2      Avengers: Infinity War          300000000       2048134200   \n",
       "3              Justice League          300000000        655945209   \n",
       "4              Justice League          300000000        655945209   \n",
       "..                        ...                ...              ...   \n",
       "535                 Arrowhead             180000                0   \n",
       "536                  The Fits             170000           169242   \n",
       "537             A Ghost Story             100000          2769782   \n",
       "538                    Krisha              30000           144822   \n",
       "539                    Krisha              30000           144822   \n",
       "\n",
       "     release_month  release_year_x            genre_ids  \n",
       "0               12            2017    [14, 12, 878, 28]  \n",
       "1               12            2017    [14, 12, 878, 28]  \n",
       "2                4            2018         [12, 28, 14]  \n",
       "3               11            2017    [28, 12, 14, 878]  \n",
       "4               11            2017    [28, 12, 14, 878]  \n",
       "..             ...             ...                  ...  \n",
       "535              6            2017  [28, 12, 9648, 878]  \n",
       "536              6            2016                 [18]  \n",
       "537              7            2017      [18, 14, 10749]  \n",
       "538              3            2016                 [18]  \n",
       "539              3            2016                 [18]  \n",
       "\n",
       "[540 rows x 6 columns]"
      ]
     },
     "execution_count": 87,
     "metadata": {},
     "output_type": "execute_result"
    }
   ],
   "source": [
    "budgets_genres_all = budgets_genres[['movie', 'production_budget', 'worldwide_gross','release_month', 'release_year_x', 'genre_ids']]\n",
    "budgets_genres_all"
   ]
  },
  {
   "cell_type": "code",
   "execution_count": 1,
   "id": "d6f21932",
   "metadata": {},
   "outputs": [
    {
     "ename": "NameError",
     "evalue": "name 'budgets_genres_all' is not defined",
     "output_type": "error",
     "traceback": [
      "\u001b[0;31m---------------------------------------------------------------------------\u001b[0m",
      "\u001b[0;31mNameError\u001b[0m                                 Traceback (most recent call last)",
      "\u001b[0;32m<ipython-input-1-eb87d63a63f7>\u001b[0m in \u001b[0;36m<module>\u001b[0;34m\u001b[0m\n\u001b[0;32m----> 1\u001b[0;31m \u001b[0mbudgets_genres_all\u001b[0m \u001b[0;34m=\u001b[0m \u001b[0mbudgets_genres_all\u001b[0m\u001b[0;34m.\u001b[0m\u001b[0mdrop_duplicates\u001b[0m\u001b[0;34m(\u001b[0m\u001b[0msubset\u001b[0m\u001b[0;34m=\u001b[0m \u001b[0;34m'movie'\u001b[0m\u001b[0;34m)\u001b[0m\u001b[0;34m\u001b[0m\u001b[0;34m\u001b[0m\u001b[0m\n\u001b[0m\u001b[1;32m      2\u001b[0m \u001b[0mbudgets_genres_all\u001b[0m\u001b[0;34m.\u001b[0m\u001b[0mhead\u001b[0m\u001b[0;34m(\u001b[0m\u001b[0;36m20\u001b[0m\u001b[0;34m)\u001b[0m\u001b[0;34m\u001b[0m\u001b[0;34m\u001b[0m\u001b[0m\n",
      "\u001b[0;31mNameError\u001b[0m: name 'budgets_genres_all' is not defined"
     ]
    }
   ],
   "source": [
    "budgets_genres_all = budgets_genres_all.drop_duplicates(subset= 'movie')\n",
    "budgets_genres_all.head(20)"
   ]
  },
  {
   "cell_type": "code",
   "execution_count": 89,
   "id": "dabc24e9",
   "metadata": {},
   "outputs": [],
   "source": [
    "budgets_genres_all.to_csv('all_genres_vs_budgets.csv', index=False)"
   ]
  },
  {
   "cell_type": "code",
   "execution_count": 90,
   "id": "fcb20416",
   "metadata": {},
   "outputs": [
    {
     "name": "stdout",
     "output_type": "stream",
     "text": [
      "all_genres_vs_budgets     im.db.zip                 tmdb.movies.csv\r\n",
      "all_genres_vs_budgets.csv rt.movie_info.tsv         tmdb.movies.csv.gz\r\n",
      "bom.movie_gross.csv       rt.movie_info.tsv.gz      tn.movie_budgets.csv\r\n",
      "bom.movie_gross.csv.gz    rt.reviews.tsv            tn.movie_budgets.csv.gz\r\n",
      "im.db                     rt.reviews.tsv.gz\r\n"
     ]
    }
   ],
   "source": [
    "! ls"
   ]
  },
  {
   "cell_type": "code",
   "execution_count": null,
   "id": "0eab2eae",
   "metadata": {},
   "outputs": [],
   "source": []
  }
 ],
 "metadata": {
  "kernelspec": {
   "display_name": "Python (learn-env)",
   "language": "python",
   "name": "learn-env"
  },
  "language_info": {
   "codemirror_mode": {
    "name": "ipython",
    "version": 3
   },
   "file_extension": ".py",
   "mimetype": "text/x-python",
   "name": "python",
   "nbconvert_exporter": "python",
   "pygments_lexer": "ipython3",
   "version": "3.8.5"
  }
 },
 "nbformat": 4,
 "nbformat_minor": 5
}
